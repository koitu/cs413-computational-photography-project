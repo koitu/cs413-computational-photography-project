{
 "nbformat": 4,
 "nbformat_minor": 0,
 "metadata": {
  "colab": {
   "provenance": [],
   "machine_shape": "hm",
   "gpuType": "V100",
   "mount_file_id": "1SvUptl22F4mgjBKNkiWVTPwoAKiFg9I1",
   "authorship_tag": "ABX9TyPTJdMZPY8wTs/KCG5I8h41"
  },
  "kernelspec": {
   "name": "python3",
   "display_name": "Python 3"
  },
  "language_info": {
   "name": "python"
  },
  "accelerator": "GPU"
 },
 "cells": [
  {
   "cell_type": "code",
   "source": [
    "!pwd"
   ],
   "metadata": {
    "colab": {
     "base_uri": "https://localhost:8080/"
    },
    "id": "ERY84XH0L1gD",
    "executionInfo": {
     "status": "ok",
     "timestamp": 1711272997633,
     "user_tz": -60,
     "elapsed": 392,
     "user": {
      "displayName": "Xinyi Ding",
      "userId": "05778211709491780395"
     }
    },
    "outputId": "57b394aa-ff74-4097-ccc0-600203b97036"
   },
   "execution_count": 12,
   "outputs": []
  },
  {
   "cell_type": "code",
   "source": [
    "%cd '/content/drive/MyDrive/programming projects/Depth-Anything'"
   ],
   "metadata": {
    "colab": {
     "base_uri": "https://localhost:8080/"
    },
    "id": "sT3lBN_AI5r6",
    "executionInfo": {
     "status": "ok",
     "timestamp": 1711272997634,
     "user_tz": -60,
     "elapsed": 5,
     "user": {
      "displayName": "Xinyi Ding",
      "userId": "05778211709491780395"
     }
    },
    "outputId": "f6d36d5a-294f-4be9-b26a-e03b942cfac9"
   },
   "execution_count": 13,
   "outputs": []
  },
  {
   "cell_type": "code",
   "source": [
    "import os\n",
    "\n",
    "import cv2\n",
    "import torch\n",
    "import requests\n",
    "import numpy as np\n",
    "import matplotlib.pyplot as plt\n",
    "\n",
    "from PIL import Image\n",
    "from io import BytesIO\n",
    "from torchvision.transforms import Compose\n",
    "\n",
    "from depth_anything.dpt import DepthAnything\n",
    "from depth_anything.util.transform import Resize, NormalizeImage, PrepareForNet\n",
    "\n",
    "from sklearn.cluster import DBSCAN\n",
    "from sklearn.cluster import KMeans\n",
    "from yellowbrick.cluster import KElbowVisualizer\n",
    "\n",
    "def get_image_from_url(url):\n",
    "    response = requests.get(url)\n",
    "    img = Image.open(BytesIO(response.content)).convert(\"RGB\")\n",
    "    return np.array(img)\n",
    "\n",
    "def get_image_from_files(dir):\n",
    "  images_list = list()\n",
    "  for root, dirs, files in os.walk(dir):\n",
    "    for file in files:\n",
    "      images_list.append(dir+file)\n",
    "  print(f'There are {len(images_list)} images in our dataset')\n",
    "  return images_list\n",
    "\n",
    "dir = \"/content/drive/MyDrive/programming projects/Depth-Anything/dataset_add/\"\n",
    "images_list = get_image_from_files(dir)"
   ],
   "metadata": {
    "id": "GDkDu6HnLVMW",
    "executionInfo": {
     "status": "ok",
     "timestamp": 1711273830845,
     "user_tz": -60,
     "elapsed": 203,
     "user": {
      "displayName": "Xinyi Ding",
      "userId": "05778211709491780395"
     }
    },
    "colab": {
     "base_uri": "https://localhost:8080/"
    },
    "outputId": "b0464ca1-66de-4339-e958-867e03881984"
   },
   "execution_count": 43,
   "outputs": []
  },
  {
   "cell_type": "markdown",
   "source": [
    "# Obtain depth"
   ],
   "metadata": {
    "id": "8pRO4D8bN6bG"
   }
  },
  {
   "cell_type": "code",
   "source": [
    "# img_url = \"https://koitu.com/gallery/photos/PXL_20240118_062519789.jpg\"\n",
    "# img_url = \"https://www.prints-online.com/p/164/exposition-universelle-internationale-paris-23439848.jpg\"\n",
    "# img = get_image_from_url(img_url)\n",
    "\n",
    "raw_image = cv2.imread(images_list[1])\n",
    "raw_image = cv2.cvtColor(raw_image, cv2.COLOR_BGR2RGB) / 255.0"
   ],
   "metadata": {
    "id": "s67KU1otL9SZ",
    "executionInfo": {
     "status": "ok",
     "timestamp": 1711275096405,
     "user_tz": -60,
     "elapsed": 326,
     "user": {
      "displayName": "Xinyi Ding",
      "userId": "05778211709491780395"
     }
    }
   },
   "execution_count": 71,
   "outputs": []
  },
  {
   "cell_type": "code",
   "source": [
    "encoder = 'vitl' # can also be 'vits', 'vitb' or 'vitl'\n",
    "\n",
    "transform = Compose([\n",
    "    Resize(\n",
    "        width=518,\n",
    "        height=518,\n",
    "        resize_target=False,\n",
    "        keep_aspect_ratio=True,\n",
    "        ensure_multiple_of=14,\n",
    "        resize_method='lower_bound',\n",
    "        image_interpolation_method=cv2.INTER_CUBIC,\n",
    "    ),\n",
    "    NormalizeImage(mean=[0.485, 0.456, 0.406], std=[0.229, 0.224, 0.225]),\n",
    "    PrepareForNet(),\n",
    "])\n",
    "\n",
    "depth_anything = DepthAnything.from_pretrained('LiheYoung/depth_anything_{:}14'.format(encoder)).eval()"
   ],
   "metadata": {
    "id": "cM-ZTluwLvBw",
    "executionInfo": {
     "status": "ok",
     "timestamp": 1711275102361,
     "user_tz": -60,
     "elapsed": 4849,
     "user": {
      "displayName": "Xinyi Ding",
      "userId": "05778211709491780395"
     }
    }
   },
   "execution_count": 72,
   "outputs": []
  },
  {
   "cell_type": "code",
   "source": [
    "%%time\n",
    "image_resized = transform({'image': raw_image})['image']\n",
    "image_resized = torch.from_numpy(image_resized).unsqueeze(0)\n",
    "\n",
    "depth = depth_anything(image_resized)  # depth shape: 1xHxW\n",
    "depth = depth.detach().squeeze()"
   ],
   "metadata": {
    "colab": {
     "base_uri": "https://localhost:8080/"
    },
    "id": "JF_KFy5bMCwT",
    "executionInfo": {
     "status": "ok",
     "timestamp": 1711275119882,
     "user_tz": -60,
     "elapsed": 17523,
     "user": {
      "displayName": "Xinyi Ding",
      "userId": "05778211709491780395"
     }
    },
    "outputId": "3873b15a-5f65-40fe-a3c7-c322161edb6d"
   },
   "execution_count": 73,
   "outputs": []
  },
  {
   "cell_type": "code",
   "source": [
    "plt.figure(figsize=(15,7))\n",
    "\n",
    "plt.subplot(121)\n",
    "plt.title('Input')\n",
    "plt.imshow(raw_image)\n",
    "\n",
    "plt.subplot(122)\n",
    "plt.title('Predicted Depth')\n",
    "plt.imshow(depth)\n",
    "\n",
    "plt.colorbar(cax = plt.axes([0.91, 0.3, 0.01, 0.4]))"
   ],
   "metadata": {
    "colab": {
     "base_uri": "https://localhost:8080/",
     "height": 340
    },
    "id": "7_bTDcgFMFwM",
    "executionInfo": {
     "status": "ok",
     "timestamp": 1711275123159,
     "user_tz": -60,
     "elapsed": 3298,
     "user": {
      "displayName": "Xinyi Ding",
      "userId": "05778211709491780395"
     }
    },
    "outputId": "a99139f8-4ea7-4fff-de47-22f60c3bcedd"
   },
   "execution_count": 74,
   "outputs": []
  },
  {
   "cell_type": "markdown",
   "source": [
    "# Clustering"
   ],
   "metadata": {
    "id": "LpT66Jb4OFZg"
   }
  },
  {
   "cell_type": "code",
   "source": [
    "d = depth.numpy()\n",
    "n, m = np.shape(d)\n",
    "\n",
    "d = np.reshape(d, (n*m, 1))"
   ],
   "metadata": {
    "id": "L9H9Oj8F4gbd",
    "executionInfo": {
     "status": "ok",
     "timestamp": 1711275123160,
     "user_tz": -60,
     "elapsed": 6,
     "user": {
      "displayName": "Xinyi Ding",
      "userId": "05778211709491780395"
     }
    }
   },
   "execution_count": 75,
   "outputs": []
  },
  {
   "cell_type": "markdown",
   "source": [
    "## Find the optimal number of clusters"
   ],
   "metadata": {
    "id": "Bs-eIijGS9tk"
   }
  },
  {
   "cell_type": "code",
   "source": [
    "# initialize KMeans model\n",
    "model = KMeans(random_state=42)\n",
    "\n",
    "# Initialize KElbowVisualizer, set k in the range 2 to 10\n",
    "visualizer = KElbowVisualizer(model, k=(2,10))\n",
    "\n",
    "# Fitting data and plotting elbows\n",
    "visualizer.fit(d)\n",
    "visualizer.show()"
   ],
   "metadata": {
    "colab": {
     "base_uri": "https://localhost:8080/",
     "height": 848
    },
    "id": "82iNbMAoVC0C",
    "executionInfo": {
     "status": "ok",
     "timestamp": 1711275135066,
     "user_tz": -60,
     "elapsed": 11912,
     "user": {
      "displayName": "Xinyi Ding",
      "userId": "05778211709491780395"
     }
    },
    "outputId": "8d77b4a4-5d83-4a6c-e4f6-2bf916bb0395"
   },
   "execution_count": 76,
   "outputs": []
  },
  {
   "cell_type": "markdown",
   "source": [
    "## Kmeans"
   ],
   "metadata": {
    "id": "5EiV--sh4Bqk"
   }
  },
  {
   "cell_type": "code",
   "source": [
    "n_clusters = visualizer.elbow_value_\n",
    "\n",
    "k_means = KMeans(n_clusters=n_clusters, random_state=42)\n",
    "k_means.fit(d)\n",
    "res = k_means.predict(d)\n",
    "res = np.reshape(res, (n,m))\n",
    "\n",
    "# Used to store the cluster center value corresponding to each data point\n",
    "res_clusters = k_means.labels_\n",
    "res_labels = np.reshape(res_clusters, (n,m)).astype(np.float64)\n",
    "res_centers = k_means.cluster_centers_[k_means.labels_]\n",
    "res_depth = np.reshape(res_centers, (n,m))\n",
    "\n",
    "# Upsample the segmented depth image\n",
    "original_height, original_width = raw_image.shape[:2]\n",
    "res_depth_upsampled = cv2.resize(res_depth, (original_width, original_height), interpolation=cv2.INTER_CUBIC)\n",
    "res_labels_upsampled = cv2.resize(res_labels, (original_width, original_height), interpolation=cv2.INTER_CUBIC)"
   ],
   "metadata": {
    "colab": {
     "base_uri": "https://localhost:8080/"
    },
    "id": "spWdspdHMU6X",
    "executionInfo": {
     "status": "ok",
     "timestamp": 1711275136127,
     "user_tz": -60,
     "elapsed": 1066,
     "user": {
      "displayName": "Xinyi Ding",
      "userId": "05778211709491780395"
     }
    },
    "outputId": "82da5da1-a3d5-45a0-ddd2-4d46cb1e6cc5"
   },
   "execution_count": 77,
   "outputs": []
  },
  {
   "cell_type": "code",
   "source": [
    "plt.figure(figsize=(15,7))\n",
    "\n",
    "plt.subplot(121)\n",
    "plt.title('Input')\n",
    "plt.imshow(raw_image)\n",
    "\n",
    "plt.subplot(122)\n",
    "plt.title('Predicted Depth')\n",
    "plt.imshow(res_depth_upsampled)\n",
    "\n",
    "plt.colorbar(cax = plt.axes([0.91, 0.3, 0.01, 0.4]))"
   ],
   "metadata": {
    "colab": {
     "base_uri": "https://localhost:8080/",
     "height": 340
    },
    "id": "Vi0zOQJMMVOn",
    "executionInfo": {
     "status": "ok",
     "timestamp": 1711275140344,
     "user_tz": -60,
     "elapsed": 4220,
     "user": {
      "displayName": "Xinyi Ding",
      "userId": "05778211709491780395"
     }
    },
    "outputId": "7dd4f032-109c-4916-d741-0132adaf9199"
   },
   "execution_count": 78,
   "outputs": []
  },
  {
   "cell_type": "code",
   "source": [
    "plt.figure(figsize=(10,15))\n",
    "rows = (n_clusters + 1 + 1) // 2\n",
    "\n",
    "\n",
    "# Display the original img\n",
    "plt.subplot(rows, 2, 1)\n",
    "plt.title('Original Image')\n",
    "plt.imshow(raw_image)\n",
    "plt.axis('off')\n",
    "\n",
    "for i in range(n_clusters):\n",
    "    # Create a background the same size as the original image but with all pixels white\n",
    "    cluster_img = np.ones_like(raw_image)\n",
    "\n",
    "    # Find the pixel points that belong to the current cluster\n",
    "    # and set the color of these points to the color in the original image\n",
    "    mask = res_labels_upsampled == i\n",
    "    mask = np.repeat(mask[:, :, np.newaxis], 3, axis=2)\n",
    "    cluster_img[mask] = raw_image[mask]\n",
    "\n",
    "    plt.subplot(rows, 2, i + 2)\n",
    "    plt.title(f'Cluster {i + 1}')\n",
    "    plt.imshow(cluster_img)\n",
    "    plt.axis('off')\n",
    "\n",
    "plt.tight_layout()\n",
    "plt.show()\n"
   ],
   "metadata": {
    "colab": {
     "base_uri": "https://localhost:8080/",
     "height": 1000
    },
    "id": "vcJmnbcAAnRW",
    "executionInfo": {
     "status": "ok",
     "timestamp": 1711275152068,
     "user_tz": -60,
     "elapsed": 11746,
     "user": {
      "displayName": "Xinyi Ding",
      "userId": "05778211709491780395"
     }
    },
    "outputId": "8a7a3cae-1aa8-45c1-92d4-21d182761e2d"
   },
   "execution_count": 79,
   "outputs": []
  },
  {
   "cell_type": "code",
   "source": [
    "# Get the cluster labels for each pixel and the centroids of each cluster (i.e., average depths)\n",
    "labels = k_means.labels_\n",
    "centroids = k_means.cluster_centers_\n",
    "\n",
    "# Calculate the depth difference (distortion) between each pixel and the centroid of its cluster\n",
    "distortions = np.abs(d - res_centers)\n",
    "\n",
    "# Reshape the distortions back to the original image size for visualization\n",
    "distortions_image = np.reshape(distortions, (n, m))\n",
    "\n",
    "# Optionally: Calculate the average distortion for each cluster\n",
    "for i in range(n_clusters):\n",
    "    cluster_distortion = np.mean(distortions[labels == i])\n",
    "    print(f\"Cluster {i} average distortion: {cluster_distortion}\")\n",
    "print(\"The average distortion over the complete image:\", np.mean(distortions))"
   ],
   "metadata": {
    "colab": {
     "base_uri": "https://localhost:8080/"
    },
    "id": "LGQ1qxSRMXDy",
    "executionInfo": {
     "status": "ok",
     "timestamp": 1711275152069,
     "user_tz": -60,
     "elapsed": 8,
     "user": {
      "displayName": "Xinyi Ding",
      "userId": "05778211709491780395"
     }
    },
    "outputId": "a17eb127-efb9-4a8f-d535-cd550f8d3c41"
   },
   "execution_count": 80,
   "outputs": []
  }
 ]
}
