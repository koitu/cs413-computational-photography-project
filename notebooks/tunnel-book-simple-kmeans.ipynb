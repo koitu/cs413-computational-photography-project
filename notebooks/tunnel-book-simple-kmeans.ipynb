{
 "cells": [
  {
   "cell_type": "code",
   "execution_count": 1,
   "metadata": {
    "colab": {
     "base_uri": "https://localhost:8080/"
    },
    "executionInfo": {
     "elapsed": 392,
     "status": "ok",
     "timestamp": 1711272997633,
     "user": {
      "displayName": "Xinyi Ding",
      "userId": "05778211709491780395"
     },
     "user_tz": -60
    },
    "id": "ERY84XH0L1gD",
    "outputId": "57b394aa-ff74-4097-ccc0-600203b97036"
   },
   "outputs": [
    {
     "name": "stdout",
     "output_type": "stream",
     "text": [
      "/Users/DXY/Documents/24S_EPFL_DH/Computational_photography/cs413-computational-photography-project/notebooks\n"
     ]
    }
   ],
   "source": [
    "!pwd"
   ]
  },
  {
   "cell_type": "code",
   "execution_count": 4,
   "metadata": {
    "colab": {
     "base_uri": "https://localhost:8080/"
    },
    "executionInfo": {
     "elapsed": 5,
     "status": "ok",
     "timestamp": 1711272997634,
     "user": {
      "displayName": "Xinyi Ding",
      "userId": "05778211709491780395"
     },
     "user_tz": -60
    },
    "id": "sT3lBN_AI5r6",
    "outputId": "f6d36d5a-294f-4be9-b26a-e03b942cfac9"
   },
   "outputs": [
    {
     "name": "stdout",
     "output_type": "stream",
     "text": [
      "[Errno 2] No such file or directory: '/content/drive/MyDrive/programming projects/Depth-Anything'\n",
      "/Users/DXY/Documents/24S_EPFL_DH/Computational_photography/cs413-computational-photography-project/tunnel_book/DepthAnything\n"
     ]
    }
   ],
   "source": [
    "%cd '/content/drive/MyDrive/programming projects/Depth-Anything'"
   ]
  },
  {
   "cell_type": "code",
   "execution_count": 3,
   "metadata": {
    "colab": {
     "base_uri": "https://localhost:8080/"
    },
    "executionInfo": {
     "elapsed": 203,
     "status": "ok",
     "timestamp": 1711273830845,
     "user": {
      "displayName": "Xinyi Ding",
      "userId": "05778211709491780395"
     },
     "user_tz": -60
    },
    "id": "GDkDu6HnLVMW",
    "outputId": "b0464ca1-66de-4339-e958-867e03881984"
   },
   "outputs": [
    {
     "ename": "ModuleNotFoundError",
     "evalue": "No module named 'torch'",
     "output_type": "error",
     "traceback": [
      "\u001b[0;31m---------------------------------------------------------------------------\u001b[0m",
      "\u001b[0;31mModuleNotFoundError\u001b[0m                       Traceback (most recent call last)",
      "Cell \u001b[0;32mIn[3], line 4\u001b[0m\n\u001b[1;32m      1\u001b[0m \u001b[38;5;28;01mimport\u001b[39;00m \u001b[38;5;21;01mos\u001b[39;00m\n\u001b[1;32m      3\u001b[0m \u001b[38;5;28;01mimport\u001b[39;00m \u001b[38;5;21;01mcv2\u001b[39;00m\n\u001b[0;32m----> 4\u001b[0m \u001b[38;5;28;01mimport\u001b[39;00m \u001b[38;5;21;01mtorch\u001b[39;00m\n\u001b[1;32m      5\u001b[0m \u001b[38;5;28;01mimport\u001b[39;00m \u001b[38;5;21;01mrequests\u001b[39;00m\n\u001b[1;32m      6\u001b[0m \u001b[38;5;28;01mimport\u001b[39;00m \u001b[38;5;21;01mnumpy\u001b[39;00m \u001b[38;5;28;01mas\u001b[39;00m \u001b[38;5;21;01mnp\u001b[39;00m\n",
      "\u001b[0;31mModuleNotFoundError\u001b[0m: No module named 'torch'"
     ]
    }
   ],
   "source": [
    "import os\n",
    "\n",
    "import cv2\n",
    "import torch\n",
    "import requests\n",
    "import numpy as np\n",
    "import matplotlib.pyplot as plt\n",
    "\n",
    "from PIL import Image\n",
    "from io import BytesIO\n",
    "from torchvision.transforms import Compose\n",
    "\n",
    "from depth_anything.dpt import DepthAnything\n",
    "from depth_anything.util.transform import Resize, NormalizeImage, PrepareForNet\n",
    "\n",
    "from sklearn.cluster import DBSCAN\n",
    "from sklearn.cluster import KMeans\n",
    "from yellowbrick.cluster import KElbowVisualizer\n",
    "\n",
    "def get_image_from_url(url):\n",
    "    response = requests.get(url)\n",
    "    img = Image.open(BytesIO(response.content)).convert(\"RGB\")\n",
    "    return np.array(img)\n",
    "\n",
    "def get_image_from_files(dir):\n",
    "  images_list = list()\n",
    "  for root, dirs, files in os.walk(dir):\n",
    "    for file in files:\n",
    "      images_list.append(dir+file)\n",
    "  print(f'There are {len(images_list)} images in our dataset')\n",
    "  return images_list\n",
    "\n",
    "dir = \"/content/drive/MyDrive/programming projects/Depth-Anything/dataset_add/\"\n",
    "images_list = get_image_from_files(dir)"
   ]
  },
  {
   "cell_type": "markdown",
   "metadata": {
    "id": "8pRO4D8bN6bG"
   },
   "source": [
    "# Obtain depth"
   ]
  },
  {
   "cell_type": "code",
   "execution_count": 71,
   "metadata": {
    "executionInfo": {
     "elapsed": 326,
     "status": "ok",
     "timestamp": 1711275096405,
     "user": {
      "displayName": "Xinyi Ding",
      "userId": "05778211709491780395"
     },
     "user_tz": -60
    },
    "id": "s67KU1otL9SZ"
   },
   "outputs": [],
   "source": [
    "# img_url = \"https://koitu.com/gallery/photos/PXL_20240118_062519789.jpg\"\n",
    "# img_url = \"https://www.prints-online.com/p/164/exposition-universelle-internationale-paris-23439848.jpg\"\n",
    "# img = get_image_from_url(img_url)\n",
    "\n",
    "raw_image = cv2.imread(images_list[1])\n",
    "raw_image = cv2.cvtColor(raw_image, cv2.COLOR_BGR2RGB) / 255.0"
   ]
  },
  {
   "cell_type": "code",
   "execution_count": 72,
   "metadata": {
    "executionInfo": {
     "elapsed": 4849,
     "status": "ok",
     "timestamp": 1711275102361,
     "user": {
      "displayName": "Xinyi Ding",
      "userId": "05778211709491780395"
     },
     "user_tz": -60
    },
    "id": "cM-ZTluwLvBw"
   },
   "outputs": [],
   "source": [
    "encoder = 'vitl' # can also be 'vits', 'vitb' or 'vitl'\n",
    "\n",
    "transform = Compose([\n",
    "    Resize(\n",
    "        width=518,\n",
    "        height=518,\n",
    "        resize_target=False,\n",
    "        keep_aspect_ratio=True,\n",
    "        ensure_multiple_of=14,\n",
    "        resize_method='lower_bound',\n",
    "        image_interpolation_method=cv2.INTER_CUBIC,\n",
    "    ),\n",
    "    NormalizeImage(mean=[0.485, 0.456, 0.406], std=[0.229, 0.224, 0.225]),\n",
    "    PrepareForNet(),\n",
    "])\n",
    "\n",
    "depth_anything = DepthAnything.from_pretrained('LiheYoung/depth_anything_{:}14'.format(encoder)).eval()"
   ]
  },
  {
   "cell_type": "code",
   "execution_count": 73,
   "metadata": {
    "colab": {
     "base_uri": "https://localhost:8080/"
    },
    "executionInfo": {
     "elapsed": 17523,
     "status": "ok",
     "timestamp": 1711275119882,
     "user": {
      "displayName": "Xinyi Ding",
      "userId": "05778211709491780395"
     },
     "user_tz": -60
    },
    "id": "JF_KFy5bMCwT",
    "outputId": "3873b15a-5f65-40fe-a3c7-c322161edb6d"
   },
   "outputs": [],
   "source": [
    "%%time\n",
    "image_resized = transform({'image': raw_image})['image']\n",
    "image_resized = torch.from_numpy(image_resized).unsqueeze(0)\n",
    "\n",
    "depth = depth_anything(image_resized)  # depth shape: 1xHxW\n",
    "depth = depth.detach().squeeze()"
   ]
  },
  {
   "cell_type": "code",
   "execution_count": null,
   "metadata": {},
   "outputs": [],
   "source": [
    "for img_name in images_list:\n",
    "  image = cv2.imread(img_name)\n",
    "  image = cv2.cvtColor(image, cv2.COLOR_BGR2RGB) / 255.0\n",
    "\n",
    "  image_resized = transform({'image': raw_image})['image']\n",
    "  image_resized = torch.from_numpy(image_resized).unsqueeze(0)\n",
    "\n",
    "  depth = depth_anything(image_resized)  # depth shape: 1xHxW\n",
    "  depth = depth.detach().numpy()\n",
    "  path = '/content/drive/MyDrive/programming projects/SAM/output/depth/'+img_name.split('.')[0].split('/')[-1]+'.npy'\n",
    "  np.save(path, depth)\n",
    "  print(path)"
   ]
  },
  {
   "cell_type": "code",
   "execution_count": 74,
   "metadata": {
    "colab": {
     "base_uri": "https://localhost:8080/",
     "height": 340
    },
    "executionInfo": {
     "elapsed": 3298,
     "status": "ok",
     "timestamp": 1711275123159,
     "user": {
      "displayName": "Xinyi Ding",
      "userId": "05778211709491780395"
     },
     "user_tz": -60
    },
    "id": "7_bTDcgFMFwM",
    "outputId": "a99139f8-4ea7-4fff-de47-22f60c3bcedd"
   },
   "outputs": [],
   "source": [
    "plt.figure(figsize=(15,7))\n",
    "\n",
    "plt.subplot(121)\n",
    "plt.title('Input')\n",
    "plt.imshow(raw_image)\n",
    "\n",
    "plt.subplot(122)\n",
    "plt.title('Predicted Depth')\n",
    "plt.imshow(depth)\n",
    "\n",
    "plt.colorbar(cax = plt.axes([0.91, 0.3, 0.01, 0.4]))"
   ]
  },
  {
   "cell_type": "markdown",
   "metadata": {
    "id": "LpT66Jb4OFZg"
   },
   "source": [
    "# Clustering"
   ]
  },
  {
   "cell_type": "code",
   "execution_count": 75,
   "metadata": {
    "executionInfo": {
     "elapsed": 6,
     "status": "ok",
     "timestamp": 1711275123160,
     "user": {
      "displayName": "Xinyi Ding",
      "userId": "05778211709491780395"
     },
     "user_tz": -60
    },
    "id": "L9H9Oj8F4gbd"
   },
   "outputs": [],
   "source": [
    "d = depth.numpy()\n",
    "n, m = np.shape(d)\n",
    "\n",
    "d = np.reshape(d, (n*m, 1))"
   ]
  },
  {
   "cell_type": "markdown",
   "metadata": {
    "id": "Bs-eIijGS9tk"
   },
   "source": [
    "## Find the optimal number of clusters"
   ]
  },
  {
   "cell_type": "code",
   "execution_count": 76,
   "metadata": {
    "colab": {
     "base_uri": "https://localhost:8080/",
     "height": 848
    },
    "executionInfo": {
     "elapsed": 11912,
     "status": "ok",
     "timestamp": 1711275135066,
     "user": {
      "displayName": "Xinyi Ding",
      "userId": "05778211709491780395"
     },
     "user_tz": -60
    },
    "id": "82iNbMAoVC0C",
    "outputId": "8d77b4a4-5d83-4a6c-e4f6-2bf916bb0395"
   },
   "outputs": [],
   "source": [
    "# initialize KMeans model\n",
    "model = KMeans(random_state=42)\n",
    "\n",
    "# Initialize KElbowVisualizer, set k in the range 2 to 10\n",
    "visualizer = KElbowVisualizer(model, k=(2,10))\n",
    "\n",
    "# Fitting data and plotting elbows\n",
    "visualizer.fit(d)\n",
    "visualizer.show()"
   ]
  },
  {
   "cell_type": "markdown",
   "metadata": {
    "id": "5EiV--sh4Bqk"
   },
   "source": [
    "## Kmeans"
   ]
  },
  {
   "cell_type": "code",
   "execution_count": 77,
   "metadata": {
    "colab": {
     "base_uri": "https://localhost:8080/"
    },
    "executionInfo": {
     "elapsed": 1066,
     "status": "ok",
     "timestamp": 1711275136127,
     "user": {
      "displayName": "Xinyi Ding",
      "userId": "05778211709491780395"
     },
     "user_tz": -60
    },
    "id": "spWdspdHMU6X",
    "outputId": "82da5da1-a3d5-45a0-ddd2-4d46cb1e6cc5"
   },
   "outputs": [],
   "source": [
    "n_clusters = visualizer.elbow_value_\n",
    "\n",
    "k_means = KMeans(n_clusters=n_clusters, random_state=42)\n",
    "k_means.fit(d)\n",
    "res = k_means.predict(d)\n",
    "res = np.reshape(res, (n,m))\n",
    "\n",
    "# Used to store the cluster center value corresponding to each data point\n",
    "res_clusters = k_means.labels_\n",
    "res_labels = np.reshape(res_clusters, (n,m)).astype(np.float64)\n",
    "res_centers = k_means.cluster_centers_[k_means.labels_]\n",
    "res_depth = np.reshape(res_centers, (n,m))\n",
    "\n",
    "# Upsample the segmented depth image\n",
    "original_height, original_width = raw_image.shape[:2]\n",
    "res_depth_upsampled = cv2.resize(res_depth, (original_width, original_height), interpolation=cv2.INTER_CUBIC)\n",
    "res_labels_upsampled = cv2.resize(res_labels, (original_width, original_height), interpolation=cv2.INTER_CUBIC)"
   ]
  },
  {
   "cell_type": "code",
   "execution_count": 78,
   "metadata": {
    "colab": {
     "base_uri": "https://localhost:8080/",
     "height": 340
    },
    "executionInfo": {
     "elapsed": 4220,
     "status": "ok",
     "timestamp": 1711275140344,
     "user": {
      "displayName": "Xinyi Ding",
      "userId": "05778211709491780395"
     },
     "user_tz": -60
    },
    "id": "Vi0zOQJMMVOn",
    "outputId": "7dd4f032-109c-4916-d741-0132adaf9199"
   },
   "outputs": [],
   "source": [
    "plt.figure(figsize=(15,7))\n",
    "\n",
    "plt.subplot(121)\n",
    "plt.title('Input')\n",
    "plt.imshow(raw_image)\n",
    "\n",
    "plt.subplot(122)\n",
    "plt.title('Predicted Depth')\n",
    "plt.imshow(res_depth_upsampled)\n",
    "\n",
    "plt.colorbar(cax = plt.axes([0.91, 0.3, 0.01, 0.4]))"
   ]
  },
  {
   "cell_type": "code",
   "execution_count": 79,
   "metadata": {
    "colab": {
     "base_uri": "https://localhost:8080/",
     "height": 1000
    },
    "executionInfo": {
     "elapsed": 11746,
     "status": "ok",
     "timestamp": 1711275152068,
     "user": {
      "displayName": "Xinyi Ding",
      "userId": "05778211709491780395"
     },
     "user_tz": -60
    },
    "id": "vcJmnbcAAnRW",
    "outputId": "8a7a3cae-1aa8-45c1-92d4-21d182761e2d"
   },
   "outputs": [],
   "source": [
    "plt.figure(figsize=(10,15))\n",
    "rows = (n_clusters + 1 + 1) // 2\n",
    "\n",
    "\n",
    "# Display the original img\n",
    "plt.subplot(rows, 2, 1)\n",
    "plt.title('Original Image')\n",
    "plt.imshow(raw_image)\n",
    "plt.axis('off')\n",
    "\n",
    "for i in range(n_clusters):\n",
    "    # Create a background the same size as the original image but with all pixels white\n",
    "    cluster_img = np.ones_like(raw_image)\n",
    "\n",
    "    # Find the pixel points that belong to the current cluster\n",
    "    # and set the color of these points to the color in the original image\n",
    "    mask = res_labels_upsampled == i\n",
    "    mask = np.repeat(mask[:, :, np.newaxis], 3, axis=2)\n",
    "    cluster_img[mask] = raw_image[mask]\n",
    "\n",
    "    plt.subplot(rows, 2, i + 2)\n",
    "    plt.title(f'Cluster {i + 1}')\n",
    "    plt.imshow(cluster_img)\n",
    "    plt.axis('off')\n",
    "\n",
    "plt.tight_layout()\n",
    "plt.show()\n"
   ]
  },
  {
   "cell_type": "code",
   "execution_count": 80,
   "metadata": {
    "colab": {
     "base_uri": "https://localhost:8080/"
    },
    "executionInfo": {
     "elapsed": 8,
     "status": "ok",
     "timestamp": 1711275152069,
     "user": {
      "displayName": "Xinyi Ding",
      "userId": "05778211709491780395"
     },
     "user_tz": -60
    },
    "id": "LGQ1qxSRMXDy",
    "outputId": "a17eb127-efb9-4a8f-d535-cd550f8d3c41"
   },
   "outputs": [],
   "source": [
    "# Get the cluster labels for each pixel and the centroids of each cluster (i.e., average depths)\n",
    "labels = k_means.labels_\n",
    "centroids = k_means.cluster_centers_\n",
    "\n",
    "# Calculate the depth difference (distortion) between each pixel and the centroid of its cluster\n",
    "distortions = np.abs(d - res_centers)\n",
    "\n",
    "# Reshape the distortions back to the original image size for visualization\n",
    "distortions_image = np.reshape(distortions, (n, m))\n",
    "\n",
    "# Optionally: Calculate the average distortion for each cluster\n",
    "for i in range(n_clusters):\n",
    "    cluster_distortion = np.mean(distortions[labels == i])\n",
    "    print(f\"Cluster {i} average distortion: {cluster_distortion}\")\n",
    "print(\"The average distortion over the complete image:\", np.mean(distortions))"
   ]
  }
 ],
 "metadata": {
  "accelerator": "GPU",
  "colab": {
   "authorship_tag": "ABX9TyPTJdMZPY8wTs/KCG5I8h41",
   "gpuType": "V100",
   "machine_shape": "hm",
   "mount_file_id": "1SvUptl22F4mgjBKNkiWVTPwoAKiFg9I1",
   "provenance": []
  },
  "kernelspec": {
   "display_name": "Python 3",
   "name": "python3"
  },
  "language_info": {
   "codemirror_mode": {
    "name": "ipython",
    "version": 3
   },
   "file_extension": ".py",
   "mimetype": "text/x-python",
   "name": "python",
   "nbconvert_exporter": "python",
   "pygments_lexer": "ipython3",
   "version": "3.11.8"
  }
 },
 "nbformat": 4,
 "nbformat_minor": 0
}
