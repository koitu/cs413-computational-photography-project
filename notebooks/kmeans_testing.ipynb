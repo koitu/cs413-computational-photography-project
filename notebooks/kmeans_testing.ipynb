{
 "cells": [
  {
   "cell_type": "code",
   "execution_count": null,
   "metadata": {
    "colab": {
     "base_uri": "https://localhost:8080/"
    },
    "id": "ERY84XH0L1gD",
    "outputId": "e2a02db3-786c-4cb3-d1d8-2cd3a924aba6"
   },
   "source": [
    "!pwd"
   ],
   "outputs": []
  },
  {
   "cell_type": "code",
   "execution_count": null,
   "metadata": {
    "colab": {
     "base_uri": "https://localhost:8080/"
    },
    "id": "sT3lBN_AI5r6",
    "outputId": "5fd5575b-da36-470d-b19f-767741d283be"
   },
   "source": [
    "%cd '/content/drive/MyDrive/programming projects/SAM'"
   ],
   "outputs": []
  },
  {
   "cell_type": "code",
   "execution_count": null,
   "metadata": {
    "colab": {
     "base_uri": "https://localhost:8080/"
    },
    "id": "L_-M2hC0pfXG",
    "outputId": "cfa969a5-c80c-44c0-a111-79e02aa15d98"
   },
   "source": [
    "from google.colab import drive\n",
    "drive.mount('/content/drive')"
   ],
   "outputs": []
  },
  {
   "cell_type": "code",
   "execution_count": null,
   "metadata": {
    "colab": {
     "base_uri": "https://localhost:8080/"
    },
    "id": "GDkDu6HnLVMW",
    "outputId": "aac38ce6-58af-4878-d02b-b0f0886b23cb"
   },
   "source": [
    "import os\n",
    "\n",
    "import cv2\n",
    "import torch\n",
    "import requests\n",
    "import numpy as np\n",
    "import matplotlib.pyplot as plt\n",
    "\n",
    "from PIL import Image\n",
    "from io import BytesIO\n",
    "from torchvision.transforms import Compose\n",
    "\n",
    "from depth_anything.dpt import DepthAnything\n",
    "from depth_anything.util.transform import Resize, NormalizeImage, PrepareForNet\n",
    "\n",
    "from sklearn.cluster import DBSCAN\n",
    "from sklearn.cluster import KMeans\n",
    "from yellowbrick.cluster import KElbowVisualizer\n",
    "\n",
    "def get_image_from_url(url):\n",
    "    response = requests.get(url)\n",
    "    img = Image.open(BytesIO(response.content)).convert(\"RGB\")\n",
    "    return np.array(img)\n",
    "\n",
    "def get_image_from_files(dir):\n",
    "  images_list = list()\n",
    "  for root, dirs, files in os.walk(dir):\n",
    "    for file in files:\n",
    "      images_list.append(dir+file)\n",
    "  print(f'There are {len(images_list)} images in our dataset')\n",
    "  return images_list\n",
    "\n",
    "dir = \"/content/drive/MyDrive/programming projects/SAM/dataset/\"\n",
    "images_list = get_image_from_files(dir)"
   ],
   "outputs": []
  },
  {
   "cell_type": "markdown",
   "metadata": {
    "id": "8pRO4D8bN6bG"
   },
   "source": [
    "# Obtain depth"
   ]
  },
  {
   "cell_type": "code",
   "execution_count": null,
   "metadata": {
    "id": "s67KU1otL9SZ"
   },
   "source": [
    "# img_url = \"https://koitu.com/gallery/photos/PXL_20240118_062519789.jpg\"\n",
    "# img_url = \"https://www.prints-online.com/p/164/exposition-universelle-internationale-paris-23439848.jpg\"\n",
    "# img = get_image_from_url(img_url)\n",
    "\n",
    "raw_image = cv2.imread(dir+'snowmountain.JPG')\n",
    "raw_image = cv2.cvtColor(raw_image, cv2.COLOR_BGR2RGB) / 255.0"
   ],
   "outputs": []
  },
  {
   "cell_type": "code",
   "execution_count": null,
   "metadata": {
    "colab": {
     "base_uri": "https://localhost:8080/",
     "height": 244,
     "referenced_widgets": [
      "181df34d76134a72a6d11a9c70598593",
      "3aac1e90a1e54f2a84598786c6349350",
      "d6b1e39b149e4e01aeb8aaa2bd648cbb",
      "542a9f05763d4c0bb8c42579cedd2244",
      "c1a2507becd147a899ef78290464c9a3",
      "05606c6ed6ce414e83aaf1b7663dafcd",
      "25e718975a084ff9ab9aeaa1031dd52a",
      "e96b7089392842acbb069acb46a87f9c",
      "62fd77f6104f4580be5b5b98cf4538cd",
      "a91a5c3a7b32494aa98d6e1533eec4ca",
      "900f4669ea73472eaccc81b20296ce23",
      "783d3c1ad11e45b8b7bbe3464e5faddd",
      "83f9282e9f354af3b616f85a0cfa551a",
      "a5ce3548b51445f4ae66377adbea6e85",
      "ff69703a2a354e5ca623c3bd3afc7c71",
      "4107b4ea427a471598237c80410626d7",
      "07782c60b8a2411084f93e8a6618035b",
      "840cd3a152ef4911bff2f000a31cdcc8",
      "6c78eb41ee9f458f949f892c62a958dc",
      "f0cb3db1c08e442ca8a384aa93291374",
      "b7e91bb957174f66bb2cacc9d18042af",
      "11827a1c554d4033a38885a536c2c285"
     ]
    },
    "id": "cM-ZTluwLvBw",
    "outputId": "19884e34-a422-4966-969a-e94084496fa9"
   },
   "source": [
    "encoder = 'vitb' # can also be 'vits', 'vitb' or 'vitl'\n",
    "\n",
    "transform = Compose([\n",
    "    Resize(\n",
    "        width=518,\n",
    "        height=518,\n",
    "        resize_target=False,\n",
    "        keep_aspect_ratio=True,\n",
    "        ensure_multiple_of=14,\n",
    "        resize_method='lower_bound',\n",
    "        image_interpolation_method=cv2.INTER_CUBIC,\n",
    "    ),\n",
    "    NormalizeImage(mean=[0.485, 0.456, 0.406], std=[0.229, 0.224, 0.225]),\n",
    "    PrepareForNet(),\n",
    "])\n",
    "\n",
    "depth_anything = DepthAnything.from_pretrained('LiheYoung/depth_anything_{:}14'.format(encoder)).eval()"
   ],
   "outputs": []
  },
  {
   "cell_type": "code",
   "execution_count": null,
   "metadata": {
    "colab": {
     "base_uri": "https://localhost:8080/"
    },
    "id": "JF_KFy5bMCwT",
    "outputId": "48908dc7-df09-4999-a0b0-87c8dd7f81c4"
   },
   "source": [
    "%%time\n",
    "image_resized = transform({'image': raw_image})['image']\n",
    "image_resized = torch.from_numpy(image_resized).unsqueeze(0)\n",
    "\n",
    "depth = depth_anything(image_resized)  # depth shape: 1xHxW\n",
    "depth = depth.detach().squeeze()"
   ],
   "outputs": []
  },
  {
   "cell_type": "code",
   "execution_count": null,
   "metadata": {
    "colab": {
     "base_uri": "https://localhost:8080/"
    },
    "id": "Kci9uAgr1gEt",
    "outputId": "f52809b7-b7ce-4bf5-e597-38b302c7836a"
   },
   "source": [
    "# for img_name in images_list:\n",
    "#   image = cv2.imread(img_name)\n",
    "#   image = cv2.cvtColor(image, cv2.COLOR_BGR2RGB) / 255.0\n",
    "\n",
    "#   image_resized = transform({'image': image})['image']\n",
    "#   image_resized = torch.from_numpy(image_resized).unsqueeze(0)\n",
    "\n",
    "#   depth = depth_anything(image_resized)  # depth shape: 1xHxW\n",
    "#   depth = depth.detach().numpy()\n",
    "#   path = '/content/drive/MyDrive/programming projects/SAM/output/depth/'+img_name.split('.')[0].split('/')[-1]+'.npy'\n",
    "#   np.save(path, depth)\n",
    "#   print(path)"
   ],
   "outputs": []
  },
  {
   "cell_type": "code",
   "execution_count": null,
   "metadata": {
    "colab": {
     "base_uri": "https://localhost:8080/"
    },
    "id": "WAMsygcIPzCE",
    "outputId": "1898e83b-ae9f-4378-e25d-07ff0e0e149e"
   },
   "source": [
    "depth.shape"
   ],
   "outputs": []
  },
  {
   "cell_type": "code",
   "execution_count": null,
   "metadata": {
    "colab": {
     "base_uri": "https://localhost:8080/",
     "height": 604
    },
    "id": "KlSxAAc8u6C1",
    "outputId": "77774533-ef13-49ab-b249-bac676c68f95"
   },
   "source": [
    "plt.figure(figsize=(15,7))\n",
    "plt.imshow(depth,cmap='inferno')\n",
    "plt.show()"
   ],
   "outputs": []
  },
  {
   "cell_type": "code",
   "execution_count": null,
   "metadata": {
    "colab": {
     "base_uri": "https://localhost:8080/",
     "height": 547
    },
    "id": "7_bTDcgFMFwM",
    "outputId": "6c281c49-3b10-4dd1-be55-46c0215d400d"
   },
   "source": [
    "plt.figure(figsize=(15,7))\n",
    "\n",
    "plt.subplot(121)\n",
    "plt.title('Input')\n",
    "plt.imshow(raw_image)\n",
    "\n",
    "plt.subplot(122)\n",
    "plt.title('Predicted Depth')\n",
    "plt.imshow(depth)\n",
    "\n",
    "plt.colorbar(cax = plt.axes([0.91, 0.3, 0.01, 0.4]))"
   ],
   "outputs": []
  },
  {
   "cell_type": "markdown",
   "metadata": {
    "id": "LpT66Jb4OFZg"
   },
   "source": [
    "# Clustering"
   ]
  },
  {
   "cell_type": "code",
   "execution_count": null,
   "metadata": {
    "id": "L9H9Oj8F4gbd"
   },
   "source": [
    "d = depth.numpy()\n",
    "n, m = np.shape(d)\n",
    "\n",
    "d = np.reshape(d, (n*m, 1))"
   ],
   "outputs": []
  },
  {
   "cell_type": "markdown",
   "metadata": {
    "id": "Bs-eIijGS9tk"
   },
   "source": [
    "## Find the optimal number of clusters"
   ]
  },
  {
   "cell_type": "code",
   "execution_count": null,
   "metadata": {
    "colab": {
     "base_uri": "https://localhost:8080/",
     "height": 848
    },
    "id": "82iNbMAoVC0C",
    "outputId": "6ae5ee64-281a-49a1-d85e-a80a2c338f88"
   },
   "source": [
    "# initialize KMeans model\n",
    "model = KMeans(random_state=42)\n",
    "\n",
    "# Initialize KElbowVisualizer, set k in the range 2 to 10\n",
    "visualizer = KElbowVisualizer(model, k=(2,10))\n",
    "\n",
    "# Fitting data and plotting elbows\n",
    "visualizer.fit(d)\n",
    "visualizer.show()"
   ],
   "outputs": []
  },
  {
   "cell_type": "markdown",
   "metadata": {
    "id": "5EiV--sh4Bqk"
   },
   "source": [
    "## Kmeans"
   ]
  },
  {
   "cell_type": "code",
   "execution_count": null,
   "metadata": {
    "colab": {
     "base_uri": "https://localhost:8080/"
    },
    "id": "spWdspdHMU6X",
    "outputId": "0be7ba85-9ef3-411e-b0b8-a7977c43084a"
   },
   "source": [
    "n_clusters = visualizer.elbow_value_\n",
    "\n",
    "k_means = KMeans(n_clusters=n_clusters, random_state=42)\n",
    "k_means.fit(d)\n",
    "res = k_means.predict(d)\n",
    "res = np.reshape(res, (n,m))\n",
    "\n",
    "# Used to store the cluster center value corresponding to each data point\n",
    "res_clusters = k_means.labels_\n",
    "res_labels = np.reshape(res_clusters, (n,m)).astype(np.float64)\n",
    "res_centers = k_means.cluster_centers_[k_means.labels_]\n",
    "res_depth = np.reshape(res_centers, (n,m))\n",
    "\n",
    "# Upsample the segmented depth image\n",
    "original_height, original_width = raw_image.shape[:2]\n",
    "res_depth_upsampled = cv2.resize(res_depth, (original_width, original_height), interpolation=cv2.INTER_CUBIC)\n",
    "res_labels_upsampled = cv2.resize(res_labels, (original_width, original_height), interpolation=cv2.INTER_CUBIC)"
   ],
   "outputs": []
  },
  {
   "cell_type": "code",
   "execution_count": null,
   "metadata": {
    "colab": {
     "base_uri": "https://localhost:8080/",
     "height": 638
    },
    "id": "UX7sJmlJvW_1",
    "outputId": "9ac6b22b-865c-47af-ddb4-f28ecec7fc59"
   },
   "source": [
    "plt.figure(figsize=(15,7))\n",
    "plt.title('Predicted Depth')\n",
    "plt.grid(False)\n",
    "plt.imshow(res_depth_upsampled, cmap='inferno')"
   ],
   "outputs": []
  },
  {
   "cell_type": "code",
   "execution_count": null,
   "metadata": {
    "colab": {
     "base_uri": "https://localhost:8080/",
     "height": 547
    },
    "id": "Vi0zOQJMMVOn",
    "outputId": "60523630-5ada-4c40-a1c3-5c4cf397ad4f"
   },
   "source": [
    "plt.figure(figsize=(15,7))\n",
    "\n",
    "plt.subplot(121)\n",
    "plt.title('Input')\n",
    "plt.imshow(raw_image)\n",
    "\n",
    "plt.subplot(122)\n",
    "plt.title('Predicted Depth')\n",
    "plt.imshow(res_depth_upsampled)\n",
    "\n",
    "plt.colorbar(cax = plt.axes([0.91, 0.3, 0.01, 0.4]))"
   ],
   "outputs": []
  },
  {
   "cell_type": "code",
   "execution_count": null,
   "metadata": {
    "colab": {
     "base_uri": "https://localhost:8080/",
     "height": 807
    },
    "id": "vcJmnbcAAnRW",
    "outputId": "c1426afc-9e6a-4822-fc15-a549de0f3e4d"
   },
   "source": [
    "plt.figure(figsize=(8,12))\n",
    "rows = (n_clusters + 1 + 1) // 2\n",
    "\n",
    "\n",
    "# Display the original img\n",
    "# plt.subplot(rows, 2, 1)\n",
    "# plt.title('Original Image')\n",
    "# plt.imshow(raw_image)\n",
    "# plt.axis('off')\n",
    "\n",
    "for i in range(n_clusters):\n",
    "    # Create a background the same size as the original image but with all pixels white\n",
    "    cluster_img = np.ones_like(raw_image)\n",
    "\n",
    "    # Find the pixel points that belong to the current cluster\n",
    "    # and set the color of these points to the color in the original image\n",
    "    mask = res_labels_upsampled == i\n",
    "    mask = np.repeat(mask[:, :, np.newaxis], 3, axis=2)\n",
    "    cluster_img[mask] = raw_image[mask]\n",
    "\n",
    "    plt.subplot(rows, 3, i + 1)\n",
    "    plt.title(f'Cluster {i + 1}')\n",
    "    plt.imshow(cluster_img)\n",
    "    plt.axis('off')\n",
    "\n",
    "plt.tight_layout()\n",
    "plt.show()\n"
   ],
   "outputs": []
  },
  {
   "cell_type": "code",
   "execution_count": null,
   "metadata": {
    "colab": {
     "base_uri": "https://localhost:8080/",
     "height": 1000
    },
    "id": "VTZ33zyH1KSL",
    "outputId": "ddd95bc4-3bda-4d72-bff9-08ead9e967bb"
   },
   "source": [
    "for i in range(n_clusters):\n",
    "    cluster_img = np.ones_like(raw_image)\n",
    "\n",
    "    mask = res_labels_upsampled == i\n",
    "    mask = np.repeat(mask[:, :, np.newaxis], 3, axis=2)\n",
    "    cluster_img[mask] = raw_image[mask]\n",
    "\n",
    "    plt.figure(figsize=(10, 8))\n",
    "    plt.imshow(cluster_img)\n",
    "    # plt.title(f'Cluster {i + 1}')\n",
    "    plt.axis('off')\n",
    "    plt.show()\n",
    "\n",
    "    plt.imsave(f'Cluster_{i + 1}.png', cluster_img, format='png')"
   ],
   "outputs": []
  },
  {
   "cell_type": "code",
   "execution_count": null,
   "metadata": {
    "id": "uowkMvf31sbw"
   },
   "source": [],
   "outputs": []
  }
 ],
 "metadata": {
  "colab": {
   "gpuType": "T4",
   "machine_shape": "hm",
   "provenance": []
  },
  "kernelspec": {
   "display_name": "Python 3",
   "language": "python",
   "name": "python3"
  },
  "language_info": {
   "codemirror_mode": {
    "name": "ipython",
    "version": 3
   },
   "file_extension": ".py",
   "mimetype": "text/x-python",
   "name": "python",
   "nbconvert_exporter": "python",
   "pygments_lexer": "ipython3",
   "version": "3.9.2"
  },
  "widgets": {
   "application/vnd.jupyter.widget-state+json": {
    "05606c6ed6ce414e83aaf1b7663dafcd": {
     "model_module": "@jupyter-widgets/base",
     "model_module_version": "1.2.0",
     "model_name": "LayoutModel",
     "state": {
      "_model_module": "@jupyter-widgets/base",
      "_model_module_version": "1.2.0",
      "_model_name": "LayoutModel",
      "_view_count": null,
      "_view_module": "@jupyter-widgets/base",
      "_view_module_version": "1.2.0",
      "_view_name": "LayoutView",
      "align_content": null,
      "align_items": null,
      "align_self": null,
      "border": null,
      "bottom": null,
      "display": null,
      "flex": null,
      "flex_flow": null,
      "grid_area": null,
      "grid_auto_columns": null,
      "grid_auto_flow": null,
      "grid_auto_rows": null,
      "grid_column": null,
      "grid_gap": null,
      "grid_row": null,
      "grid_template_areas": null,
      "grid_template_columns": null,
      "grid_template_rows": null,
      "height": null,
      "justify_content": null,
      "justify_items": null,
      "left": null,
      "margin": null,
      "max_height": null,
      "max_width": null,
      "min_height": null,
      "min_width": null,
      "object_fit": null,
      "object_position": null,
      "order": null,
      "overflow": null,
      "overflow_x": null,
      "overflow_y": null,
      "padding": null,
      "right": null,
      "top": null,
      "visibility": null,
      "width": null
     }
    },
    "07782c60b8a2411084f93e8a6618035b": {
     "model_module": "@jupyter-widgets/base",
     "model_module_version": "1.2.0",
     "model_name": "LayoutModel",
     "state": {
      "_model_module": "@jupyter-widgets/base",
      "_model_module_version": "1.2.0",
      "_model_name": "LayoutModel",
      "_view_count": null,
      "_view_module": "@jupyter-widgets/base",
      "_view_module_version": "1.2.0",
      "_view_name": "LayoutView",
      "align_content": null,
      "align_items": null,
      "align_self": null,
      "border": null,
      "bottom": null,
      "display": null,
      "flex": null,
      "flex_flow": null,
      "grid_area": null,
      "grid_auto_columns": null,
      "grid_auto_flow": null,
      "grid_auto_rows": null,
      "grid_column": null,
      "grid_gap": null,
      "grid_row": null,
      "grid_template_areas": null,
      "grid_template_columns": null,
      "grid_template_rows": null,
      "height": null,
      "justify_content": null,
      "justify_items": null,
      "left": null,
      "margin": null,
      "max_height": null,
      "max_width": null,
      "min_height": null,
      "min_width": null,
      "object_fit": null,
      "object_position": null,
      "order": null,
      "overflow": null,
      "overflow_x": null,
      "overflow_y": null,
      "padding": null,
      "right": null,
      "top": null,
      "visibility": null,
      "width": null
     }
    },
    "11827a1c554d4033a38885a536c2c285": {
     "model_module": "@jupyter-widgets/controls",
     "model_module_version": "1.5.0",
     "model_name": "DescriptionStyleModel",
     "state": {
      "_model_module": "@jupyter-widgets/controls",
      "_model_module_version": "1.5.0",
      "_model_name": "DescriptionStyleModel",
      "_view_count": null,
      "_view_module": "@jupyter-widgets/base",
      "_view_module_version": "1.2.0",
      "_view_name": "StyleView",
      "description_width": ""
     }
    },
    "181df34d76134a72a6d11a9c70598593": {
     "model_module": "@jupyter-widgets/controls",
     "model_module_version": "1.5.0",
     "model_name": "HBoxModel",
     "state": {
      "_dom_classes": [],
      "_model_module": "@jupyter-widgets/controls",
      "_model_module_version": "1.5.0",
      "_model_name": "HBoxModel",
      "_view_count": null,
      "_view_module": "@jupyter-widgets/controls",
      "_view_module_version": "1.5.0",
      "_view_name": "HBoxView",
      "box_style": "",
      "children": [
       "IPY_MODEL_3aac1e90a1e54f2a84598786c6349350",
       "IPY_MODEL_d6b1e39b149e4e01aeb8aaa2bd648cbb",
       "IPY_MODEL_542a9f05763d4c0bb8c42579cedd2244"
      ],
      "layout": "IPY_MODEL_c1a2507becd147a899ef78290464c9a3"
     }
    },
    "25e718975a084ff9ab9aeaa1031dd52a": {
     "model_module": "@jupyter-widgets/controls",
     "model_module_version": "1.5.0",
     "model_name": "DescriptionStyleModel",
     "state": {
      "_model_module": "@jupyter-widgets/controls",
      "_model_module_version": "1.5.0",
      "_model_name": "DescriptionStyleModel",
      "_view_count": null,
      "_view_module": "@jupyter-widgets/base",
      "_view_module_version": "1.2.0",
      "_view_name": "StyleView",
      "description_width": ""
     }
    },
    "3aac1e90a1e54f2a84598786c6349350": {
     "model_module": "@jupyter-widgets/controls",
     "model_module_version": "1.5.0",
     "model_name": "HTMLModel",
     "state": {
      "_dom_classes": [],
      "_model_module": "@jupyter-widgets/controls",
      "_model_module_version": "1.5.0",
      "_model_name": "HTMLModel",
      "_view_count": null,
      "_view_module": "@jupyter-widgets/controls",
      "_view_module_version": "1.5.0",
      "_view_name": "HTMLView",
      "description": "",
      "description_tooltip": null,
      "layout": "IPY_MODEL_05606c6ed6ce414e83aaf1b7663dafcd",
      "placeholder": "​",
      "style": "IPY_MODEL_25e718975a084ff9ab9aeaa1031dd52a",
      "value": "config.json: 100%"
     }
    },
    "4107b4ea427a471598237c80410626d7": {
     "model_module": "@jupyter-widgets/base",
     "model_module_version": "1.2.0",
     "model_name": "LayoutModel",
     "state": {
      "_model_module": "@jupyter-widgets/base",
      "_model_module_version": "1.2.0",
      "_model_name": "LayoutModel",
      "_view_count": null,
      "_view_module": "@jupyter-widgets/base",
      "_view_module_version": "1.2.0",
      "_view_name": "LayoutView",
      "align_content": null,
      "align_items": null,
      "align_self": null,
      "border": null,
      "bottom": null,
      "display": null,
      "flex": null,
      "flex_flow": null,
      "grid_area": null,
      "grid_auto_columns": null,
      "grid_auto_flow": null,
      "grid_auto_rows": null,
      "grid_column": null,
      "grid_gap": null,
      "grid_row": null,
      "grid_template_areas": null,
      "grid_template_columns": null,
      "grid_template_rows": null,
      "height": null,
      "justify_content": null,
      "justify_items": null,
      "left": null,
      "margin": null,
      "max_height": null,
      "max_width": null,
      "min_height": null,
      "min_width": null,
      "object_fit": null,
      "object_position": null,
      "order": null,
      "overflow": null,
      "overflow_x": null,
      "overflow_y": null,
      "padding": null,
      "right": null,
      "top": null,
      "visibility": null,
      "width": null
     }
    },
    "542a9f05763d4c0bb8c42579cedd2244": {
     "model_module": "@jupyter-widgets/controls",
     "model_module_version": "1.5.0",
     "model_name": "HTMLModel",
     "state": {
      "_dom_classes": [],
      "_model_module": "@jupyter-widgets/controls",
      "_model_module_version": "1.5.0",
      "_model_name": "HTMLModel",
      "_view_count": null,
      "_view_module": "@jupyter-widgets/controls",
      "_view_module_version": "1.5.0",
      "_view_name": "HTMLView",
      "description": "",
      "description_tooltip": null,
      "layout": "IPY_MODEL_a91a5c3a7b32494aa98d6e1533eec4ca",
      "placeholder": "​",
      "style": "IPY_MODEL_900f4669ea73472eaccc81b20296ce23",
      "value": " 113/113 [00:00&lt;00:00, 10.6kB/s]"
     }
    },
    "62fd77f6104f4580be5b5b98cf4538cd": {
     "model_module": "@jupyter-widgets/controls",
     "model_module_version": "1.5.0",
     "model_name": "ProgressStyleModel",
     "state": {
      "_model_module": "@jupyter-widgets/controls",
      "_model_module_version": "1.5.0",
      "_model_name": "ProgressStyleModel",
      "_view_count": null,
      "_view_module": "@jupyter-widgets/base",
      "_view_module_version": "1.2.0",
      "_view_name": "StyleView",
      "bar_color": null,
      "description_width": ""
     }
    },
    "6c78eb41ee9f458f949f892c62a958dc": {
     "model_module": "@jupyter-widgets/base",
     "model_module_version": "1.2.0",
     "model_name": "LayoutModel",
     "state": {
      "_model_module": "@jupyter-widgets/base",
      "_model_module_version": "1.2.0",
      "_model_name": "LayoutModel",
      "_view_count": null,
      "_view_module": "@jupyter-widgets/base",
      "_view_module_version": "1.2.0",
      "_view_name": "LayoutView",
      "align_content": null,
      "align_items": null,
      "align_self": null,
      "border": null,
      "bottom": null,
      "display": null,
      "flex": null,
      "flex_flow": null,
      "grid_area": null,
      "grid_auto_columns": null,
      "grid_auto_flow": null,
      "grid_auto_rows": null,
      "grid_column": null,
      "grid_gap": null,
      "grid_row": null,
      "grid_template_areas": null,
      "grid_template_columns": null,
      "grid_template_rows": null,
      "height": null,
      "justify_content": null,
      "justify_items": null,
      "left": null,
      "margin": null,
      "max_height": null,
      "max_width": null,
      "min_height": null,
      "min_width": null,
      "object_fit": null,
      "object_position": null,
      "order": null,
      "overflow": null,
      "overflow_x": null,
      "overflow_y": null,
      "padding": null,
      "right": null,
      "top": null,
      "visibility": null,
      "width": null
     }
    },
    "783d3c1ad11e45b8b7bbe3464e5faddd": {
     "model_module": "@jupyter-widgets/controls",
     "model_module_version": "1.5.0",
     "model_name": "HBoxModel",
     "state": {
      "_dom_classes": [],
      "_model_module": "@jupyter-widgets/controls",
      "_model_module_version": "1.5.0",
      "_model_name": "HBoxModel",
      "_view_count": null,
      "_view_module": "@jupyter-widgets/controls",
      "_view_module_version": "1.5.0",
      "_view_name": "HBoxView",
      "box_style": "",
      "children": [
       "IPY_MODEL_83f9282e9f354af3b616f85a0cfa551a",
       "IPY_MODEL_a5ce3548b51445f4ae66377adbea6e85",
       "IPY_MODEL_ff69703a2a354e5ca623c3bd3afc7c71"
      ],
      "layout": "IPY_MODEL_4107b4ea427a471598237c80410626d7"
     }
    },
    "83f9282e9f354af3b616f85a0cfa551a": {
     "model_module": "@jupyter-widgets/controls",
     "model_module_version": "1.5.0",
     "model_name": "HTMLModel",
     "state": {
      "_dom_classes": [],
      "_model_module": "@jupyter-widgets/controls",
      "_model_module_version": "1.5.0",
      "_model_name": "HTMLModel",
      "_view_count": null,
      "_view_module": "@jupyter-widgets/controls",
      "_view_module_version": "1.5.0",
      "_view_name": "HTMLView",
      "description": "",
      "description_tooltip": null,
      "layout": "IPY_MODEL_07782c60b8a2411084f93e8a6618035b",
      "placeholder": "​",
      "style": "IPY_MODEL_840cd3a152ef4911bff2f000a31cdcc8",
      "value": "pytorch_model.bin: 100%"
     }
    },
    "840cd3a152ef4911bff2f000a31cdcc8": {
     "model_module": "@jupyter-widgets/controls",
     "model_module_version": "1.5.0",
     "model_name": "DescriptionStyleModel",
     "state": {
      "_model_module": "@jupyter-widgets/controls",
      "_model_module_version": "1.5.0",
      "_model_name": "DescriptionStyleModel",
      "_view_count": null,
      "_view_module": "@jupyter-widgets/base",
      "_view_module_version": "1.2.0",
      "_view_name": "StyleView",
      "description_width": ""
     }
    },
    "900f4669ea73472eaccc81b20296ce23": {
     "model_module": "@jupyter-widgets/controls",
     "model_module_version": "1.5.0",
     "model_name": "DescriptionStyleModel",
     "state": {
      "_model_module": "@jupyter-widgets/controls",
      "_model_module_version": "1.5.0",
      "_model_name": "DescriptionStyleModel",
      "_view_count": null,
      "_view_module": "@jupyter-widgets/base",
      "_view_module_version": "1.2.0",
      "_view_name": "StyleView",
      "description_width": ""
     }
    },
    "a5ce3548b51445f4ae66377adbea6e85": {
     "model_module": "@jupyter-widgets/controls",
     "model_module_version": "1.5.0",
     "model_name": "FloatProgressModel",
     "state": {
      "_dom_classes": [],
      "_model_module": "@jupyter-widgets/controls",
      "_model_module_version": "1.5.0",
      "_model_name": "FloatProgressModel",
      "_view_count": null,
      "_view_module": "@jupyter-widgets/controls",
      "_view_module_version": "1.5.0",
      "_view_name": "ProgressView",
      "bar_style": "success",
      "description": "",
      "description_tooltip": null,
      "layout": "IPY_MODEL_6c78eb41ee9f458f949f892c62a958dc",
      "max": 389975689,
      "min": 0,
      "orientation": "horizontal",
      "style": "IPY_MODEL_f0cb3db1c08e442ca8a384aa93291374",
      "value": 389975689
     }
    },
    "a91a5c3a7b32494aa98d6e1533eec4ca": {
     "model_module": "@jupyter-widgets/base",
     "model_module_version": "1.2.0",
     "model_name": "LayoutModel",
     "state": {
      "_model_module": "@jupyter-widgets/base",
      "_model_module_version": "1.2.0",
      "_model_name": "LayoutModel",
      "_view_count": null,
      "_view_module": "@jupyter-widgets/base",
      "_view_module_version": "1.2.0",
      "_view_name": "LayoutView",
      "align_content": null,
      "align_items": null,
      "align_self": null,
      "border": null,
      "bottom": null,
      "display": null,
      "flex": null,
      "flex_flow": null,
      "grid_area": null,
      "grid_auto_columns": null,
      "grid_auto_flow": null,
      "grid_auto_rows": null,
      "grid_column": null,
      "grid_gap": null,
      "grid_row": null,
      "grid_template_areas": null,
      "grid_template_columns": null,
      "grid_template_rows": null,
      "height": null,
      "justify_content": null,
      "justify_items": null,
      "left": null,
      "margin": null,
      "max_height": null,
      "max_width": null,
      "min_height": null,
      "min_width": null,
      "object_fit": null,
      "object_position": null,
      "order": null,
      "overflow": null,
      "overflow_x": null,
      "overflow_y": null,
      "padding": null,
      "right": null,
      "top": null,
      "visibility": null,
      "width": null
     }
    },
    "b7e91bb957174f66bb2cacc9d18042af": {
     "model_module": "@jupyter-widgets/base",
     "model_module_version": "1.2.0",
     "model_name": "LayoutModel",
     "state": {
      "_model_module": "@jupyter-widgets/base",
      "_model_module_version": "1.2.0",
      "_model_name": "LayoutModel",
      "_view_count": null,
      "_view_module": "@jupyter-widgets/base",
      "_view_module_version": "1.2.0",
      "_view_name": "LayoutView",
      "align_content": null,
      "align_items": null,
      "align_self": null,
      "border": null,
      "bottom": null,
      "display": null,
      "flex": null,
      "flex_flow": null,
      "grid_area": null,
      "grid_auto_columns": null,
      "grid_auto_flow": null,
      "grid_auto_rows": null,
      "grid_column": null,
      "grid_gap": null,
      "grid_row": null,
      "grid_template_areas": null,
      "grid_template_columns": null,
      "grid_template_rows": null,
      "height": null,
      "justify_content": null,
      "justify_items": null,
      "left": null,
      "margin": null,
      "max_height": null,
      "max_width": null,
      "min_height": null,
      "min_width": null,
      "object_fit": null,
      "object_position": null,
      "order": null,
      "overflow": null,
      "overflow_x": null,
      "overflow_y": null,
      "padding": null,
      "right": null,
      "top": null,
      "visibility": null,
      "width": null
     }
    },
    "c1a2507becd147a899ef78290464c9a3": {
     "model_module": "@jupyter-widgets/base",
     "model_module_version": "1.2.0",
     "model_name": "LayoutModel",
     "state": {
      "_model_module": "@jupyter-widgets/base",
      "_model_module_version": "1.2.0",
      "_model_name": "LayoutModel",
      "_view_count": null,
      "_view_module": "@jupyter-widgets/base",
      "_view_module_version": "1.2.0",
      "_view_name": "LayoutView",
      "align_content": null,
      "align_items": null,
      "align_self": null,
      "border": null,
      "bottom": null,
      "display": null,
      "flex": null,
      "flex_flow": null,
      "grid_area": null,
      "grid_auto_columns": null,
      "grid_auto_flow": null,
      "grid_auto_rows": null,
      "grid_column": null,
      "grid_gap": null,
      "grid_row": null,
      "grid_template_areas": null,
      "grid_template_columns": null,
      "grid_template_rows": null,
      "height": null,
      "justify_content": null,
      "justify_items": null,
      "left": null,
      "margin": null,
      "max_height": null,
      "max_width": null,
      "min_height": null,
      "min_width": null,
      "object_fit": null,
      "object_position": null,
      "order": null,
      "overflow": null,
      "overflow_x": null,
      "overflow_y": null,
      "padding": null,
      "right": null,
      "top": null,
      "visibility": null,
      "width": null
     }
    },
    "d6b1e39b149e4e01aeb8aaa2bd648cbb": {
     "model_module": "@jupyter-widgets/controls",
     "model_module_version": "1.5.0",
     "model_name": "FloatProgressModel",
     "state": {
      "_dom_classes": [],
      "_model_module": "@jupyter-widgets/controls",
      "_model_module_version": "1.5.0",
      "_model_name": "FloatProgressModel",
      "_view_count": null,
      "_view_module": "@jupyter-widgets/controls",
      "_view_module_version": "1.5.0",
      "_view_name": "ProgressView",
      "bar_style": "success",
      "description": "",
      "description_tooltip": null,
      "layout": "IPY_MODEL_e96b7089392842acbb069acb46a87f9c",
      "max": 113,
      "min": 0,
      "orientation": "horizontal",
      "style": "IPY_MODEL_62fd77f6104f4580be5b5b98cf4538cd",
      "value": 113
     }
    },
    "e96b7089392842acbb069acb46a87f9c": {
     "model_module": "@jupyter-widgets/base",
     "model_module_version": "1.2.0",
     "model_name": "LayoutModel",
     "state": {
      "_model_module": "@jupyter-widgets/base",
      "_model_module_version": "1.2.0",
      "_model_name": "LayoutModel",
      "_view_count": null,
      "_view_module": "@jupyter-widgets/base",
      "_view_module_version": "1.2.0",
      "_view_name": "LayoutView",
      "align_content": null,
      "align_items": null,
      "align_self": null,
      "border": null,
      "bottom": null,
      "display": null,
      "flex": null,
      "flex_flow": null,
      "grid_area": null,
      "grid_auto_columns": null,
      "grid_auto_flow": null,
      "grid_auto_rows": null,
      "grid_column": null,
      "grid_gap": null,
      "grid_row": null,
      "grid_template_areas": null,
      "grid_template_columns": null,
      "grid_template_rows": null,
      "height": null,
      "justify_content": null,
      "justify_items": null,
      "left": null,
      "margin": null,
      "max_height": null,
      "max_width": null,
      "min_height": null,
      "min_width": null,
      "object_fit": null,
      "object_position": null,
      "order": null,
      "overflow": null,
      "overflow_x": null,
      "overflow_y": null,
      "padding": null,
      "right": null,
      "top": null,
      "visibility": null,
      "width": null
     }
    },
    "f0cb3db1c08e442ca8a384aa93291374": {
     "model_module": "@jupyter-widgets/controls",
     "model_module_version": "1.5.0",
     "model_name": "ProgressStyleModel",
     "state": {
      "_model_module": "@jupyter-widgets/controls",
      "_model_module_version": "1.5.0",
      "_model_name": "ProgressStyleModel",
      "_view_count": null,
      "_view_module": "@jupyter-widgets/base",
      "_view_module_version": "1.2.0",
      "_view_name": "StyleView",
      "bar_color": null,
      "description_width": ""
     }
    },
    "ff69703a2a354e5ca623c3bd3afc7c71": {
     "model_module": "@jupyter-widgets/controls",
     "model_module_version": "1.5.0",
     "model_name": "HTMLModel",
     "state": {
      "_dom_classes": [],
      "_model_module": "@jupyter-widgets/controls",
      "_model_module_version": "1.5.0",
      "_model_name": "HTMLModel",
      "_view_count": null,
      "_view_module": "@jupyter-widgets/controls",
      "_view_module_version": "1.5.0",
      "_view_name": "HTMLView",
      "description": "",
      "description_tooltip": null,
      "layout": "IPY_MODEL_b7e91bb957174f66bb2cacc9d18042af",
      "placeholder": "​",
      "style": "IPY_MODEL_11827a1c554d4033a38885a536c2c285",
      "value": " 390M/390M [00:07&lt;00:00, 57.2MB/s]"
     }
    }
   }
  }
 },
 "nbformat": 4,
 "nbformat_minor": 0
}
