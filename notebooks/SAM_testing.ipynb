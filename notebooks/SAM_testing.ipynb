{
 "cells": [
  {
   "cell_type": "markdown",
   "metadata": {
    "id": "2OXSrm8n8mUH"
   },
   "source": [
    "# Set up"
   ]
  },
  {
   "cell_type": "code",
   "execution_count": 1,
   "metadata": {
    "colab": {
     "base_uri": "https://localhost:8080/"
    },
    "executionInfo": {
     "elapsed": 3943,
     "status": "ok",
     "timestamp": 1716565589171,
     "user": {
      "displayName": "Xinyi Ding",
      "userId": "05778211709491780395"
     },
     "user_tz": -120
    },
    "id": "BJp3fjSVOoks",
    "outputId": "8675aac2-30f0-4d65-ec77-f25bcfff38fd"
   },
   "source": [
    "from google.colab import drive\n",
    "drive.mount('/content/drive')"
   ],
   "outputs": []
  },
  {
   "cell_type": "code",
   "execution_count": 2,
   "metadata": {
    "colab": {
     "base_uri": "https://localhost:8080/"
    },
    "executionInfo": {
     "elapsed": 3,
     "status": "ok",
     "timestamp": 1716565589171,
     "user": {
      "displayName": "Xinyi Ding",
      "userId": "05778211709491780395"
     },
     "user_tz": -120
    },
    "id": "exH3DZQDqCm5",
    "outputId": "49cf4f92-ce4a-459c-eedc-f459ebc17b33"
   },
   "source": [
    "%cd '/content/drive/MyDrive/programming projects/SAM'"
   ],
   "outputs": []
  },
  {
   "cell_type": "code",
   "execution_count": 3,
   "metadata": {
    "colab": {
     "base_uri": "https://localhost:8080/"
    },
    "executionInfo": {
     "elapsed": 4,
     "status": "ok",
     "timestamp": 1716565589731,
     "user": {
      "displayName": "Xinyi Ding",
      "userId": "05778211709491780395"
     },
     "user_tz": -120
    },
    "id": "e2wK6bpmrHZ-",
    "outputId": "7cb4c85a-e095-4679-a244-e3fffad66973"
   },
   "source": [
    "!pwd"
   ],
   "outputs": []
  },
  {
   "cell_type": "code",
   "execution_count": 4,
   "metadata": {
    "executionInfo": {
     "elapsed": 3728,
     "status": "ok",
     "timestamp": 1716565598919,
     "user": {
      "displayName": "Xinyi Ding",
      "userId": "05778211709491780395"
     },
     "user_tz": -120
    },
    "id": "xUJCX0OkrXfx"
   },
   "source": [
    "import os\n",
    "\n",
    "import cv2\n",
    "import torch\n",
    "import numpy as np\n",
    "import matplotlib.pyplot as plt\n",
    "\n",
    "from torchvision.transforms import Compose\n",
    "\n",
    "# from src import DepthAnything\n",
    "# from archive.tunnel_book import Resize, NormalizeImage, PrepareForNet\n",
    "from src.depth import estimate_depth\n",
    "from src.util import load_image\n",
    "\n",
    "from sklearn.cluster import KMeans\n",
    "from yellowbrick.cluster import KElbowVisualizer"
   ],
   "outputs": []
  },
  {
   "cell_type": "code",
   "execution_count": 5,
   "metadata": {
    "colab": {
     "base_uri": "https://localhost:8080/"
    },
    "executionInfo": {
     "elapsed": 4,
     "status": "ok",
     "timestamp": 1716565598920,
     "user": {
      "displayName": "Xinyi Ding",
      "userId": "05778211709491780395"
     },
     "user_tz": -120
    },
    "id": "gXRDjjD1PBcz",
    "outputId": "cb592851-aade-4396-e910-f52a60d61d2b"
   },
   "source": [
    "def get_image_from_files(dir):\n",
    "  images_list = list()\n",
    "  for root, dirs, files in os.walk(dir):\n",
    "    for file in files:\n",
    "      images_list.append(dir+file)\n",
    "  print(f'There are {len(images_list)} images in our dataset')\n",
    "  return images_list\n",
    "\n",
    "dir = \"dataset/\"\n",
    "images_list = get_image_from_files(dir)\n",
    "image_path = dir + 'lake.JPG'"
   ],
   "outputs": []
  },
  {
   "cell_type": "code",
   "execution_count": 6,
   "metadata": {
    "colab": {
     "base_uri": "https://localhost:8080/",
     "height": 41
    },
    "executionInfo": {
     "elapsed": 5,
     "status": "ok",
     "timestamp": 1716565601004,
     "user": {
      "displayName": "Xinyi Ding",
      "userId": "05778211709491780395"
     },
     "user_tz": -120
    },
    "id": "lFVOuHhkyfu6",
    "outputId": "093bcf22-90aa-4bb1-b216-1fbbf93b2e9b"
   },
   "source": [
    "from IPython.display import display, HTML\n",
    "display(HTML(\n",
    "\"\"\"\n",
    "<a target=\"_blank\" href=\"https://colab.research.google.com/github/facebookresearch/segment-anything/blob/main/notebooks/automatic_mask_generator_example.ipynb\">\n",
    "  <img src=\"https://colab.research.google.com/assets/colab-badge.svg\" alt=\"Open In Colab\"/>\n",
    "</a>\n",
    "\"\"\"\n",
    "))"
   ],
   "outputs": []
  },
  {
   "cell_type": "code",
   "execution_count": 7,
   "metadata": {
    "executionInfo": {
     "elapsed": 1,
     "status": "ok",
     "timestamp": 1716565602608,
     "user": {
      "displayName": "Xinyi Ding",
      "userId": "05778211709491780395"
     },
     "user_tz": -120
    },
    "id": "E-h-vGjQ0cq7"
   },
   "source": [
    "using_colab = False # Using colab but have downloaded sam_vit_h_4b8939.pth, set false\n",
    "if using_colab:\n",
    "    import torch\n",
    "    import torchvision\n",
    "    print(\"PyTorch version:\", torch.__version__)\n",
    "    print(\"Torchvision version:\", torchvision.__version__)\n",
    "    print(\"CUDA is available:\", torch.cuda.is_available())\n",
    "    import sys\n",
    "    !{sys.executable} -m pip install opencv-python matplotlib\n",
    "    !{sys.executable} -m pip install 'git+https://github.com/facebookresearch/segment-anything.git'\n",
    "\n",
    "    !mkdir images\n",
    "    !wget -P images https://raw.githubusercontent.com/facebookresearch/segment-anything/main/notebooks/images/dog.jpg\n",
    "\n",
    "    !wget https://dl.fbaipublicfiles.com/segment_anything/sam_vit_h_4b8939.pth"
   ],
   "outputs": []
  },
  {
   "cell_type": "markdown",
   "metadata": {
    "id": "1id4RI8VsKqt"
   },
   "source": [
    "# Obtain Depth"
   ]
  },
  {
   "cell_type": "code",
   "execution_count": 8,
   "metadata": {
    "executionInfo": {
     "elapsed": 523,
     "status": "ok",
     "timestamp": 1716565605895,
     "user": {
      "displayName": "Xinyi Ding",
      "userId": "05778211709491780395"
     },
     "user_tz": -120
    },
    "id": "iMsEAOoprzcD"
   },
   "source": [
    "# raw_image = cv2.imread(image_path)\n",
    "# raw_image = cv2.cvtColor(raw_image, cv2.COLOR_BGR2RGB) / 255.0"
   ],
   "outputs": []
  },
  {
   "cell_type": "code",
   "execution_count": 9,
   "metadata": {
    "colab": {
     "base_uri": "https://localhost:8080/"
    },
    "executionInfo": {
     "elapsed": 4081,
     "status": "ok",
     "timestamp": 1716565612134,
     "user": {
      "displayName": "Xinyi Ding",
      "userId": "05778211709491780395"
     },
     "user_tz": -120
    },
    "id": "SSudunzXsISz",
    "outputId": "a8375dff-e1bb-4409-cac1-0129e20f0e75"
   },
   "source": [
    "# encoder = 'vitb' # can also be 'vits', 'vitb' or 'vitl'\n",
    "# \n",
    "# transform = Compose([\n",
    "#     Resize(\n",
    "#         width=518,\n",
    "#         height=518,\n",
    "#         resize_target=False,\n",
    "#         keep_aspect_ratio=True,\n",
    "#         ensure_multiple_of=14,\n",
    "#         resize_method='lower_bound',\n",
    "#         image_interpolation_method=cv2.INTER_CUBIC,\n",
    "#     ),\n",
    "#     NormalizeImage(mean=[0.485, 0.456, 0.406], std=[0.229, 0.224, 0.225]),\n",
    "#     PrepareForNet(),\n",
    "# ])\n",
    "# \n",
    "# depth_anything = DepthAnything.from_pretrained('LiheYoung/depth_anything_{:}14'.format(encoder)).eval()"
   ],
   "outputs": []
  },
  {
   "cell_type": "code",
   "execution_count": 10,
   "metadata": {
    "colab": {
     "base_uri": "https://localhost:8080/"
    },
    "executionInfo": {
     "elapsed": 4214,
     "status": "ok",
     "timestamp": 1716565621987,
     "user": {
      "displayName": "Xinyi Ding",
      "userId": "05778211709491780395"
     },
     "user_tz": -120
    },
    "id": "Ohi8nt6XsOc5",
    "outputId": "5443b1d2-f044-4b74-dd4f-561556669484"
   },
   "source": [
    "# %%time\n",
    "# image_resized = transform({'image': raw_image})['image']\n",
    "# image_resized = torch.from_numpy(image_resized).unsqueeze(0)\n",
    "# \n",
    "# depth = depth_anything(image_resized)  # depth shape: 1xHxW\n",
    "# depth = depth.detach().squeeze()"
   ],
   "outputs": []
  },
  {
   "cell_type": "code",
   "execution_count": null,
   "metadata": {},
   "source": [
    "raw_image = load_image(image_path)\n",
    "depth = estimate_depth(raw_image)"
   ],
   "outputs": []
  },
  {
   "cell_type": "code",
   "execution_count": 11,
   "metadata": {
    "colab": {
     "base_uri": "https://localhost:8080/",
     "height": 365
    },
    "executionInfo": {
     "elapsed": 4608,
     "status": "ok",
     "timestamp": 1716565626590,
     "user": {
      "displayName": "Xinyi Ding",
      "userId": "05778211709491780395"
     },
     "user_tz": -120
    },
    "id": "XTjHco3jsjbt",
    "outputId": "acb74ad9-10e1-483c-95f7-fcda41b06e8c"
   },
   "source": [
    "plt.figure(figsize=(15,7))\n",
    "\n",
    "plt.subplot(121)\n",
    "plt.title('Input')\n",
    "plt.imshow(raw_image)\n",
    "\n",
    "plt.subplot(122)\n",
    "plt.title('Predicted Depth')\n",
    "plt.imshow(depth)\n",
    "\n",
    "plt.colorbar(cax = plt.axes([0.91, 0.3, 0.01, 0.4]))"
   ],
   "outputs": []
  },
  {
   "cell_type": "markdown",
   "metadata": {
    "id": "_x7xCezZ724E"
   },
   "source": [
    "# Automatic segmentation of all objects"
   ]
  },
  {
   "cell_type": "code",
   "execution_count": null,
   "metadata": {},
   "source": [
    "# !pip install git+https://github.com/facebookresearch/segment-anything.git\n",
    "# !pip install opencv-python pycocotools matplotlib onnxruntime onnx"
   ],
   "outputs": []
  },
  {
   "cell_type": "code",
   "execution_count": 12,
   "metadata": {
    "colab": {
     "base_uri": "https://localhost:8080/"
    },
    "collapsed": true,
    "executionInfo": {
     "elapsed": 8656,
     "status": "ok",
     "timestamp": 1716565650409,
     "user": {
      "displayName": "Xinyi Ding",
      "userId": "05778211709491780395"
     },
     "user_tz": -120
    },
    "id": "sOMZuhJe9dIi",
    "jupyter": {
     "outputs_hidden": true
    },
    "outputId": "3ba1957b-fb6d-48ad-ea01-459205451579"
   },
   "source": [
    "import sys\n",
    "sys.path.append(\"..\")\n",
    "from segment_anything import sam_model_registry, SamAutomaticMaskGenerator\n",
    "\n",
    "sam_checkpoint = \"sam_vit_h_4b8939.pth\"\n",
    "model_type = \"vit_h\"\n",
    "\n",
    "device = \"cuda\"\n",
    "\n",
    "sam = sam_model_registry[model_type](checkpoint=sam_checkpoint)\n",
    "sam.to(device=device)"
   ],
   "outputs": []
  },
  {
   "cell_type": "code",
   "execution_count": 13,
   "metadata": {
    "executionInfo": {
     "elapsed": 18,
     "status": "ok",
     "timestamp": 1716565650409,
     "user": {
      "displayName": "Xinyi Ding",
      "userId": "05778211709491780395"
     },
     "user_tz": -120
    },
    "id": "SufJmlY4hwAV"
   },
   "source": [
    "# mask_generator = SamAutomaticMaskGenerator(sam) # snowmountain\n",
    "# mask_generator = SamAutomaticMaskGenerator(sam, points_per_side=14) # snowmountain2\n",
    "# mask_generator = SamAutomaticMaskGenerator(sam, points_per_side=64) # morges-tulip #\n",
    "# mask_generator = SamAutomaticMaskGenerator(sam, points_per_side=64) # summer\n",
    "# mask_generator = SamAutomaticMaskGenerator(sam, points_per_side=18) # spring\n",
    "# mask_generator = SamAutomaticMaskGenerator(sam, points_per_side=18) # spring2 #\n",
    "mask_generator = SamAutomaticMaskGenerator(sam, points_per_side=40) # lake\n",
    "# mask_generator = SamAutomaticMaskGenerator(sam, points_per_side=12) # garden-cat\n",
    "# mask_generator = SamAutomaticMaskGenerator(sam, points_per_side=64) #harbor #\n",
    "# mask_generator = SamAutomaticMaskGenerator(sam, points_per_side=64) # torri\n",
    "# mask_generator = SamAutomaticMaskGenerator(sam, points_per_side=128) # flowers"
   ],
   "outputs": []
  },
  {
   "cell_type": "markdown",
   "metadata": {
    "id": "TE7vBu9F9Sdx"
   },
   "source": [
    "## Functions"
   ]
  },
  {
   "cell_type": "code",
   "execution_count": 14,
   "metadata": {
    "executionInfo": {
     "elapsed": 17,
     "status": "ok",
     "timestamp": 1716565650409,
     "user": {
      "displayName": "Xinyi Ding",
      "userId": "05778211709491780395"
     },
     "user_tz": -120
    },
    "id": "-XWiYyue9Ok7"
   },
   "source": [
    "from src.segmentation import show_anns, show_layers, fill_with_superpixels, obtain_all_objects\n",
    "from src.kmeans import assign2layers_kmeans\n",
    "# from archive.tunnel_book import downsample_image_opencv, obtain_all_objects, fill_with_superpixels\n",
    "from src.utils import downscale"
   ],
   "outputs": []
  },
  {
   "cell_type": "markdown",
   "metadata": {
    "id": "nRJwRRh19uvX"
   },
   "source": [
    "## Procedure"
   ]
  },
  {
   "cell_type": "code",
   "execution_count": 15,
   "metadata": {
    "colab": {
     "base_uri": "https://localhost:8080/",
     "height": 642
    },
    "executionInfo": {
     "elapsed": 4202,
     "status": "ok",
     "timestamp": 1716565714278,
     "user": {
      "displayName": "Xinyi Ding",
      "userId": "05778211709491780395"
     },
     "user_tz": -120
    },
    "id": "tvQ0dltm9xUK",
    "outputId": "49100118-04b0-4062-a5d6-64f5a366e9f8"
   },
   "source": [
    "# Dowsample the original image\n",
    "# img_lr = downsample_image_opencv(raw_image, depth.shape)\n",
    "img_lr = downscale(raw_image, *depth.shape)\n",
    "plt.figure(figsize=(15,7))\n",
    "plt.imshow(img_lr)\n",
    "plt.show()"
   ],
   "outputs": []
  },
  {
   "cell_type": "code",
   "execution_count": 16,
   "metadata": {
    "colab": {
     "base_uri": "https://localhost:8080/"
    },
    "executionInfo": {
     "elapsed": 22326,
     "status": "ok",
     "timestamp": 1716565737120,
     "user": {
      "displayName": "Xinyi Ding",
      "userId": "05778211709491780395"
     },
     "user_tz": -120
    },
    "id": "UylIAR93-Pln",
    "outputId": "c5d70373-4449-4319-b6b8-6ed7a6cc55c5"
   },
   "source": [
    "# object_masks = obtain_all_objects(mask_generator, img_lr, img_r_thrd=0.95, n_thrd = 10, ovlp_r_thrd=0.05, small_thrd=500) # snowmountain\n",
    "# object_masks = obtain_all_objects(mask_generator, img_lr, img_r_thrd=0.94, n_thrd = 10, ovlp_r_thrd=0.1, small_thrd=500) # snowmountain2\n",
    "# object_masks = obtain_all_objects(mask_generator, img_lr, img_r_thrd=0.95, n_thrd = 10, ovlp_r_thrd=0.1, small_thrd=500) # morges-tulip #\n",
    "# object_masks = obtain_all_objects(mask_generator, img_lr, img_r_thrd=0.95, n_thrd = 10, ovlp_r_thrd=0.1, small_thrd=500) # summer\n",
    "# object_masks = obtain_all_objects(mask_generator, img_lr, img_r_thrd=0.94, n_thrd = 10, ovlp_r_thrd=0.1, small_thrd=500) # spring\n",
    "# object_masks = obtain_all_objects(mask_generator, img_lr, img_r_thrd=0.95, n_thrd = 10, ovlp_r_thrd=0.1, small_thrd=500) # spring2 #\n",
    "object_masks = obtain_all_objects(mask_generator, img_lr, img_r_thrd=0.95, n_thrd = 10, ovlp_r_thrd=0.05, small_thrd=500) # lake\n",
    "# object_masks = obtain_all_objects(mask_generator, img_lr, img_r_thrd=0.95, n_thrd = 10, ovlp_r_thrd=0.1, small_thrd=500) # garden-cat\n",
    "# object_masks = obtain_all_objects(mask_generator, img_lr, img_r_thrd=0.95, n_thrd = 10, ovlp_r_thrd=0.1, small_thrd=500) # harbor #\n",
    "# object_masks = obtain_all_objects(mask_generator, img_lr, img_r_thrd=0.89, n_thrd = 10, ovlp_r_thrd=0.1, small_thrd=500) # torri\n",
    "# object_masks = obtain_all_objects(mask_generator, img_lr, img_r_thrd=0.95, n_thrd = 10, ovlp_r_thrd=0.1, small_thrd=500) # flowers"
   ],
   "outputs": []
  },
  {
   "cell_type": "code",
   "execution_count": 17,
   "metadata": {
    "colab": {
     "base_uri": "https://localhost:8080/",
     "height": 632
    },
    "executionInfo": {
     "elapsed": 3679,
     "status": "ok",
     "timestamp": 1716565740780,
     "user": {
      "displayName": "Xinyi Ding",
      "userId": "05778211709491780395"
     },
     "user_tz": -120
    },
    "id": "N7m1CMH6Bpfo",
    "outputId": "93d73ffa-50ac-4794-8a23-17beb9cfebd2"
   },
   "source": [
    "print(f\"There is {len(object_masks)} object masks\")\n",
    "plt.figure(figsize=(15,7))\n",
    "plt.imshow(img_lr)\n",
    "show_anns(object_masks)\n",
    "plt.axis('off')\n",
    "plt.show()"
   ],
   "outputs": []
  },
  {
   "cell_type": "code",
   "execution_count": 18,
   "metadata": {
    "executionInfo": {
     "elapsed": 4434,
     "status": "ok",
     "timestamp": 1716565748678,
     "user": {
      "displayName": "Xinyi Ding",
      "userId": "05778211709491780395"
     },
     "user_tz": -120
    },
    "id": "LXaw_zqrQyyN"
   },
   "source": [
    "new_object_masks = fill_with_superpixels(img_lr, object_masks)"
   ],
   "outputs": []
  },
  {
   "cell_type": "code",
   "execution_count": 19,
   "metadata": {
    "colab": {
     "base_uri": "https://localhost:8080/",
     "height": 632
    },
    "executionInfo": {
     "elapsed": 3617,
     "status": "ok",
     "timestamp": 1716565752897,
     "user": {
      "displayName": "Xinyi Ding",
      "userId": "05778211709491780395"
     },
     "user_tz": -120
    },
    "id": "hzZ7SFAXIxsl",
    "outputId": "a299a10d-d5c7-445e-8d08-7667de3faf0b"
   },
   "source": [
    "print(f\"There is {len(new_object_masks)} object masks\")\n",
    "plt.figure(figsize=(15,7))\n",
    "plt.imshow(img_lr)\n",
    "show_anns(new_object_masks)\n",
    "plt.axis('off')\n",
    "plt.show()"
   ],
   "outputs": []
  },
  {
   "cell_type": "code",
   "execution_count": 20,
   "metadata": {
    "executionInfo": {
     "elapsed": 1443,
     "status": "ok",
     "timestamp": 1716565760386,
     "user": {
      "displayName": "Xinyi Ding",
      "userId": "05778211709491780395"
     },
     "user_tz": -120
    },
    "id": "-lx_o4F3eAtv"
   },
   "source": [
    "# show_all_segmts_ind(object_masks, img_lr)"
   ],
   "outputs": []
  },
  {
   "cell_type": "code",
   "execution_count": 21,
   "metadata": {
    "colab": {
     "base_uri": "https://localhost:8080/",
     "height": 848
    },
    "executionInfo": {
     "elapsed": 652,
     "status": "ok",
     "timestamp": 1716565761679,
     "user": {
      "displayName": "Xinyi Ding",
      "userId": "05778211709491780395"
     },
     "user_tz": -120
    },
    "id": "Lba23SQ3bHDh",
    "outputId": "c3b7c554-6d01-4e58-fe65-b05455ac91bd"
   },
   "source": [
    "depth_features = []\n",
    "for m in object_masks:\n",
    "  mask = m['segmentation']\n",
    "  mask_tensor = torch.tensor(mask, dtype=torch.bool)\n",
    "  mask_depth = depth[mask_tensor]\n",
    "  if mask_depth.numel() > 0:\n",
    "    average_depth = torch.mean(mask_depth.float())\n",
    "    depth_features.append([average_depth.item()])\n",
    "\n",
    "depth_features = np.array(depth_features)\n",
    "model = KMeans()\n",
    "visualizer = KElbowVisualizer(model, k=(2,10), metric='distortion', timings=True)\n",
    "visualizer.fit(depth_features)\n",
    "visualizer.show()\n",
    "\n",
    "optimalK = visualizer.elbow_value_\n",
    "print(f\"Optimal number of clusters: {optimalK}\")"
   ],
   "outputs": []
  },
  {
   "cell_type": "markdown",
   "metadata": {
    "id": "gQdWCdVfuthi"
   },
   "source": [
    "\n",
    "# Assign objects to layers based on depth"
   ]
  },
  {
   "cell_type": "code",
   "execution_count": 22,
   "metadata": {
    "colab": {
     "base_uri": "https://localhost:8080/"
    },
    "executionInfo": {
     "elapsed": 554,
     "status": "ok",
     "timestamp": 1716565764406,
     "user": {
      "displayName": "Xinyi Ding",
      "userId": "05778211709491780395"
     },
     "user_tz": -120
    },
    "id": "XDcNz_Aq7NPO",
    "outputId": "5097e939-25ff-434a-a676-6eee390cfe5b"
   },
   "source": [
    "layers_idx, layers, layer_depth = assign2layers_kmeans(object_masks, depth.numpy(), optimalK)"
   ],
   "outputs": []
  },
  {
   "cell_type": "code",
   "execution_count": 23,
   "metadata": {
    "colab": {
     "base_uri": "https://localhost:8080/",
     "height": 261
    },
    "executionInfo": {
     "elapsed": 7,
     "status": "ok",
     "timestamp": 1716565766017,
     "user": {
      "displayName": "Xinyi Ding",
      "userId": "05778211709491780395"
     },
     "user_tz": -120
    },
    "id": "Wd7PSroN4Mz1",
    "outputId": "c83e0764-b632-4f0a-bcc3-814949db3f25"
   },
   "source": [
    "show_layers(img_lr, object_masks, layers_idx)"
   ],
   "outputs": []
  },
  {
   "cell_type": "markdown",
   "metadata": {
    "id": "9Y5Od5Fq__Vr"
   },
   "source": [
    "# Save data"
   ]
  },
  {
   "cell_type": "code",
   "execution_count": 82,
   "metadata": {
    "executionInfo": {
     "elapsed": 456,
     "status": "ok",
     "timestamp": 1716564988534,
     "user": {
      "displayName": "Xinyi Ding",
      "userId": "05778211709491780395"
     },
     "user_tz": -120
    },
    "id": "nx7_gbQPt0J4"
   },
   "source": [
    "pxl_layer1 = [ob['segmentation'] for ob in layers[0]]\n",
    "pxl_layer2 = [ob['segmentation'] for ob in layers[1]]\n",
    "pxl_layer3 = [ob['segmentation'] for ob in layers[2]]\n",
    "# pxl_layer4 = [ob['segmentation'] for ob in layers[3]]\n",
    "# summer_layer5 = [ob['segmentation'] for ob in layers[4]]"
   ],
   "outputs": []
  },
  {
   "cell_type": "code",
   "execution_count": 83,
   "metadata": {
    "executionInfo": {
     "elapsed": 8724,
     "status": "ok",
     "timestamp": 1716565016085,
     "user": {
      "displayName": "Xinyi Ding",
      "userId": "05778211709491780395"
     },
     "user_tz": -120
    },
    "id": "M0aE0REnt3lK"
   },
   "source": [
    "with open('./output/lake_layer1_segs.npy', 'wb') as f:\n",
    "  np.save(f,pxl_layer1)\n",
    "\n",
    "with open('./output/lake_layer2_segs.npy', 'wb') as f:\n",
    "  np.save(f,pxl_layer2)\n",
    "\n",
    "with open('./output/lake_layer3_segs.npy', 'wb') as f:\n",
    "  np.save(f,pxl_layer3)\n",
    "\n",
    "# with open('./output/pxl_layer4_segs.npy', 'wb') as f:\n",
    "#   np.save(f,pxl_layer4)\n",
    "\n",
    "# with open('./output/summer_layer5_segs.npy', 'wb') as f:\n",
    "#   np.save(f,summer_layer5)"
   ],
   "outputs": []
  },
  {
   "cell_type": "code",
   "execution_count": null,
   "metadata": {
    "id": "Y5ucLbztQgGl"
   },
   "source": [],
   "outputs": []
  }
 ],
 "metadata": {
  "accelerator": "GPU",
  "colab": {
   "gpuType": "T4",
   "machine_shape": "hm",
   "provenance": []
  },
  "kernelspec": {
   "display_name": "Python 3",
   "language": "python",
   "name": "python3"
  },
  "language_info": {
   "codemirror_mode": {
    "name": "ipython",
    "version": 3
   },
   "file_extension": ".py",
   "mimetype": "text/x-python",
   "name": "python",
   "nbconvert_exporter": "python",
   "pygments_lexer": "ipython3",
   "version": "3.9.2"
  }
 },
 "nbformat": 4,
 "nbformat_minor": 0
}
