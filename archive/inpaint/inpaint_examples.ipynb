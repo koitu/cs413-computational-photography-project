{
 "cells": [
  {
   "cell_type": "markdown",
   "metadata": {},
   "source": [
    "## Lib"
   ]
  },
  {
   "cell_type": "code",
   "execution_count": 1,
   "metadata": {},
   "source": [
    "%matplotlib inline\n",
    "import matplotlib.pyplot as plt\n",
    "\n",
    "import torch\n",
    "import sys\n",
    "import argparse\n",
    "import numpy as np\n",
    "from pathlib import Path\n",
    "from PIL import Image\n",
    "from PIL import Image, ImageOps"
   ],
   "outputs": []
  },
  {
   "cell_type": "code",
   "execution_count": 2,
   "metadata": {},
   "source": [
    "from inpaint_utils import *"
   ],
   "outputs": []
  },
  {
   "cell_type": "markdown",
   "metadata": {},
   "source": [
    "## Example 1"
   ]
  },
  {
   "cell_type": "code",
   "execution_count": 3,
   "metadata": {},
   "source": [
    "file = 'garden_cat'\n",
    "masks_path = []\n",
    "masks_path.append('./data/init_mask/' + file + '_layer1_l.npy')\n",
    "masks_path.append('./data/init_mask/' + file + '_layer2_l.npy')\n",
    "# masks_path.append('./data/init_mask/' + file + '_layer3_l.npy')"
   ],
   "outputs": []
  },
  {
   "cell_type": "code",
   "execution_count": 4,
   "metadata": {},
   "source": [
    "input_img = './data/init_image/'+ file + '.jpg'\n",
    "model = InpaintModel(input_img=input_img, resizeshape=np.load(masks_path[0]).shape)"
   ],
   "outputs": []
  },
  {
   "cell_type": "code",
   "execution_count": 5,
   "metadata": {},
   "source": [
    "model.load_masks(masks_path)"
   ],
   "outputs": []
  },
  {
   "cell_type": "code",
   "execution_count": 6,
   "metadata": {},
   "source": [
    "Image.fromarray(model.input_img)"
   ],
   "outputs": []
  },
  {
   "cell_type": "code",
   "execution_count": 7,
   "metadata": {},
   "source": [
    "model.auto_generate_layers()"
   ],
   "outputs": []
  },
  {
   "cell_type": "code",
   "execution_count": 8,
   "metadata": {},
   "source": [
    "model.save_outputs('./results/inpaint/'+ file )"
   ],
   "outputs": []
  },
  {
   "cell_type": "markdown",
   "metadata": {},
   "source": [
    "## Example 2"
   ]
  },
  {
   "cell_type": "code",
   "execution_count": 9,
   "metadata": {},
   "source": [
    "file = 'lake'\n",
    "masks_path = []\n",
    "masks_path.append('./data/init_mask/' + file + '_layer1_l.npy')\n",
    "masks_path.append('./data/init_mask/' + file + '_layer2_l.npy')\n",
    "\n",
    "input_img = './data/init_image/'+ file + '.jpg'\n",
    "model = InpaintModel(input_img=input_img, resizeshape=np.load(masks_path[0]).shape)\n",
    "model.load_masks(masks_path)"
   ],
   "outputs": []
  },
  {
   "cell_type": "code",
   "execution_count": 10,
   "metadata": {},
   "source": [
    "model.load_masks(masks_path)"
   ],
   "outputs": []
  },
  {
   "cell_type": "code",
   "execution_count": 11,
   "metadata": {},
   "source": [
    "model.auto_generate_layers()"
   ],
   "outputs": []
  },
  {
   "cell_type": "code",
   "execution_count": 12,
   "metadata": {},
   "source": [
    "model.save_outputs('./results/inpaint/'+ file )"
   ],
   "outputs": []
  },
  {
   "cell_type": "markdown",
   "metadata": {},
   "source": [
    "## Example 3"
   ]
  },
  {
   "cell_type": "code",
   "execution_count": 10,
   "metadata": {},
   "source": [
    "file = 'snowmountain'\n",
    "masks_path = []\n",
    "masks_path.append('./data/init_mask/' + file + '_layer1_l.npy')\n",
    "masks_path.append('./data/init_mask/' + file + '_layer2_l.npy')\n",
    "masks_path.append('./data/init_mask/' + file + '_layer3_l.npy')\n",
    "\n",
    "\n",
    "input_img = './data/init_image/'+ file + '.jpg'\n",
    "model = InpaintModel(input_img=input_img, resizeshape=np.load(masks_path[0]).shape)\n",
    "model.load_masks(masks_path)"
   ],
   "outputs": []
  },
  {
   "cell_type": "code",
   "execution_count": 11,
   "metadata": {},
   "source": [
    "model.load_masks(masks_path)"
   ],
   "outputs": []
  },
  {
   "cell_type": "code",
   "execution_count": 12,
   "metadata": {},
   "source": [
    "model.auto_generate_layers()"
   ],
   "outputs": []
  },
  {
   "cell_type": "code",
   "execution_count": 13,
   "metadata": {},
   "source": [
    "model.save_outputs('./results/inpaint/'+ file )"
   ],
   "outputs": []
  },
  {
   "cell_type": "code",
   "execution_count": 9,
   "metadata": {},
   "source": [
    "Image.fromarray(model.mask_layers[1])"
   ],
   "outputs": []
  },
  {
   "cell_type": "code",
   "execution_count": 8,
   "metadata": {},
   "source": [
    "Image.fromarray(np.load(masks_path[1]))"
   ],
   "outputs": []
  },
  {
   "cell_type": "code",
   "execution_count": null,
   "metadata": {},
   "source": [],
   "outputs": []
  }
 ],
 "metadata": {
  "kernelspec": {
   "display_name": "cp",
   "language": "python",
   "name": "python3"
  },
  "language_info": {
   "codemirror_mode": {
    "name": "ipython",
    "version": 3
   },
   "file_extension": ".py",
   "mimetype": "text/x-python",
   "name": "python",
   "nbconvert_exporter": "python",
   "pygments_lexer": "ipython3",
   "version": "3.9.19"
  }
 },
 "nbformat": 4,
 "nbformat_minor": 2
}
