{
 "cells": [
  {
   "cell_type": "code",
   "execution_count": 2,
   "metadata": {},
   "source": [
    "import numpy as np\n",
    "import cv2\n",
    "import matplotlib.pyplot as plt\n",
    "from archive.tunnel_book import downsample_image_opencv"
   ],
   "outputs": []
  },
  {
   "cell_type": "code",
   "execution_count": 10,
   "metadata": {},
   "source": [
    "layer1 = np.load('./output-sam/snowmountain/snowmountain_layer1_segs.npy')\n",
    "layer2 = np.load('./output-sam/snowmountain/snowmountain_layer2_segs.npy')\n",
    "layer3 = np.load('./output-sam/snowmountain/snowmountain_layer3_segs.npy')\n",
    "\n",
    "l1 = np.zeros_like(layer1[0])\n",
    "for ob in layer1:\n",
    "    l1 += ob\n",
    "l1 = l1 > 0\n",
    "\n",
    "l2 = np.zeros_like(layer2[0])\n",
    "for ob in layer2:\n",
    "    l2 += ob\n",
    "l2 = l2 > 0\n",
    "\n",
    "\n",
    "l3 = np.zeros_like(layer2[0])\n",
    "for ob in layer3:\n",
    "    l3 += ob\n",
    "l3 = l3 > 0"
   ],
   "outputs": []
  },
  {
   "cell_type": "code",
   "execution_count": 11,
   "metadata": {},
   "source": [
    "raw_image = cv2.imread('./dataset/snowmountain.JPG')\n",
    "raw_image = cv2.cvtColor(raw_image, cv2.COLOR_BGR2RGB) / 255.0\n",
    "img_lr = downsample_image_opencv(raw_image, [784, 518])\n",
    "plt.figure(figsize=(15,7))\n",
    "plt.imshow(img_lr)\n",
    "plt.show()"
   ],
   "outputs": []
  },
  {
   "cell_type": "code",
   "execution_count": 12,
   "metadata": {},
   "source": [
    "res_img = np.ones((img_lr.shape[0], img_lr.shape[1], 4), dtype=np.float32)\n",
    "fig = plt.figure(figsize=(10, 8))\n",
    "for i, group_mask in enumerate([l1, l2, l3]):\n",
    "    ax = fig.add_subplot(2, 3, i + 1)\n",
    "    for c in range(3):  # 遍历RGB通道\n",
    "        res_img[:, :, c] = np.where(group_mask, img_lr[:, :, c], 0)\n",
    "    res_img[:, :, 3] = np.where(group_mask, 1, 0)\n",
    "\n",
    "    ax.imshow(res_img)\n",
    "    ax.axis('off')\n",
    "    ax.set_title(f'Layer {i+1}')\n",
    "\n",
    "    plt.tight_layout()"
   ],
   "outputs": []
  },
  {
   "cell_type": "code",
   "execution_count": 19,
   "metadata": {},
   "source": [
    "def format_convertion(paths):\n",
    "    layer_masks = []\n",
    "    for p in paths:\n",
    "        layer_masks.append(np.load(p))\n",
    "\n",
    "    layers = []\n",
    "    for layer in layer_masks:\n",
    "        tmp = np.zeros_like(layer[0])\n",
    "        for ob in layer:\n",
    "            tmp += ob\n",
    "        layers.append(tmp > 0)\n",
    "\n",
    "    return layers\n",
    "\n",
    "def viz(img_path, layers):\n",
    "    depth_size=layers[0].shape\n",
    "    raw_image = cv2.imread(img_path)\n",
    "    raw_image = cv2.cvtColor(raw_image, cv2.COLOR_BGR2RGB) / 255.0\n",
    "    img_lr = downsample_image_opencv(raw_image, depth_size)\n",
    "\n",
    "    res_img = np.ones((img_lr.shape[0], img_lr.shape[1], 4), dtype=np.float32)\n",
    "    fig = plt.figure(figsize=(10, 8))\n",
    "    for i, group_mask in enumerate(layers):\n",
    "        ax = fig.add_subplot(2, 3, i + 1)\n",
    "        for c in range(3):  # 遍历RGB通道\n",
    "            res_img[:, :, c] = np.where(group_mask, img_lr[:, :, c], 0)\n",
    "        res_img[:, :, 3] = np.where(group_mask, 1, 0)\n",
    "\n",
    "        ax.imshow(res_img)\n",
    "        ax.axis('off')\n",
    "        ax.set_title(f'Layer {i+1}')\n",
    "\n",
    "        plt.tight_layout()"
   ],
   "outputs": []
  },
  {
   "cell_type": "code",
   "execution_count": 15,
   "metadata": {},
   "source": [
    "paths = ['./output-sam/snowmountain2/snowmountain2_layer1_segs.npy',\n",
    "         './output-sam/snowmountain2/snowmountain2_layer2_segs.npy',\n",
    "         './output-sam/snowmountain2/snowmountain2_layer3_segs.npy',\n",
    "         './output-sam/snowmountain2/snowmountain2_layer4_segs.npy']\n",
    "\n",
    "layers = format_convertion(paths)\n",
    "viz('./dataset/snowmountain2.JPG', layers)\n",
    "\n",
    "name = 'snowmountain2'\n",
    "for i in range(len(layers)):\n",
    "    with open('./output-sam/' + name + '/' + name + '_' + 'layer'+str(i+1) + '_l.npy', 'wb') as f:\n",
    "        np.save(f,layers[i])"
   ],
   "outputs": []
  },
  {
   "cell_type": "code",
   "execution_count": 21,
   "metadata": {},
   "source": [
    "paths = ['./output-sam/lake/lake_layer1_segs.npy',\n",
    "         './output-sam/lake/lake_layer2_segs.npy',\n",
    "         './output-sam/lake/lake_layer3_segs.npy']\n",
    "\n",
    "layers = format_convertion(paths)\n",
    "viz('./dataset/lake.JPG', layers)\n",
    "\n",
    "name = 'lake'\n",
    "for i in range(len(layers)):\n",
    "    with open('./output-sam/' +name + '/' + name + '_' + 'layer'+str(i+1) + '_l.npy', 'wb') as f:\n",
    "        np.save(f,layers[i])"
   ],
   "outputs": []
  },
  {
   "cell_type": "code",
   "execution_count": 28,
   "metadata": {},
   "source": [
    "paths = ['./output/garden_cat_layer1_segs.npy',\n",
    "         './output/garden_cat_layer2_segs.npy',\n",
    "         './output/garden_cat_layer3_segs.npy']\n",
    "\n",
    "layers = format_convertion(paths)\n",
    "viz('./dataset/garden_cat.JPG', layers)\n",
    "\n",
    "name = 'garden_cat'\n",
    "for i in range(len(layers)):\n",
    "    with open('./output/' + name + '_' + 'layer'+str(i+1) + '_l.npy', 'wb') as f:\n",
    "        np.save(f,layers[i])"
   ],
   "outputs": []
  },
  {
   "cell_type": "code",
   "execution_count": 30,
   "metadata": {},
   "source": [
    "paths = ['./output/spring_layer1_segs.npy',\n",
    "         './output/spring_layer2_segs.npy',\n",
    "         './output/spring_layer3_segs.npy']\n",
    "\n",
    "layers = format_convertion(paths)\n",
    "viz('./dataset/spring.JPG', layers)\n",
    "\n",
    "name = 'spring'\n",
    "for i in range(len(layers)):\n",
    "    with open('./output/' + name + '_' + 'layer'+str(i+1) + '_l.npy', 'wb') as f:\n",
    "        np.save(f,layers[i])"
   ],
   "outputs": []
  },
  {
   "cell_type": "code",
   "execution_count": 32,
   "metadata": {},
   "source": [
    "paths = ['./output/summer_layer1_segs.npy',\n",
    "         './output/summer_layer2_segs.npy',\n",
    "         './output/summer_layer3_segs.npy',\n",
    "         './output/summer_layer4_segs.npy',\n",
    "         './output/summer_layer5_segs.npy']\n",
    "\n",
    "layers = format_convertion(paths)\n",
    "viz('./dataset/summer.jpg', layers)\n",
    "\n",
    "name = 'summer'\n",
    "for i in range(len(layers)):\n",
    "    with open('./output/' + name + '_' + 'layer'+str(i+1) + '_l.npy', 'wb') as f:\n",
    "        np.save(f,layers[i])"
   ],
   "outputs": []
  },
  {
   "cell_type": "code",
   "execution_count": 33,
   "metadata": {},
   "source": [
    "paths = ['./output/torri_layer1_segs.npy',\n",
    "         './output/torri_layer2_segs.npy',\n",
    "         './output/torri_layer3_segs.npy',\n",
    "         './output/torri_layer4_segs.npy']\n",
    "\n",
    "layers = format_convertion(paths)\n",
    "viz('./dataset/torii.jpg', layers)\n",
    "\n",
    "name = 'torri'\n",
    "for i in range(len(layers)):\n",
    "    with open('./output/' + name + '_' + 'layer'+str(i+1) + '_l.npy', 'wb') as f:\n",
    "        np.save(f,layers[i])"
   ],
   "outputs": []
  },
  {
   "cell_type": "code",
   "execution_count": null,
   "metadata": {},
   "source": [],
   "outputs": []
  }
 ],
 "metadata": {
  "kernelspec": {
   "display_name": "py311",
   "language": "python",
   "name": "python3"
  },
  "language_info": {
   "codemirror_mode": {
    "name": "ipython",
    "version": 3
   },
   "file_extension": ".py",
   "mimetype": "text/x-python",
   "name": "python",
   "nbconvert_exporter": "python",
   "pygments_lexer": "ipython3",
   "version": "3.11.8"
  }
 },
 "nbformat": 4,
 "nbformat_minor": 2
}
