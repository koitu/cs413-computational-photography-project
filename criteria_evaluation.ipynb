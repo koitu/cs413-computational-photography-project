{
 "cells": [
  {
   "cell_type": "code",
   "execution_count": 19,
   "metadata": {},
   "outputs": [],
   "source": [
    "import cv2\n",
    "import numpy as np\n",
    "from skimage.feature import graycomatrix, graycoprops"
   ]
  },
  {
   "cell_type": "code",
   "execution_count": 7,
   "metadata": {},
   "outputs": [],
   "source": [
    "def downsample_image(image_path, scale_percent):\n",
    "    image = cv2.imread(image_path)\n",
    "    width = int(image.shape[1] * scale_percent / 100)\n",
    "    height = int(image.shape[0] * scale_percent / 100)\n",
    "    new_dim = (width, height)\n",
    "    resized_image = cv2.resize(image, new_dim, interpolation=cv2.INTER_LINEAR)\n",
    "    \n",
    "    return resized_image"
   ]
  },
  {
   "cell_type": "markdown",
   "metadata": {},
   "source": [
    "# Criteria"
   ]
  },
  {
   "cell_type": "markdown",
   "metadata": {},
   "source": [
    "## Color Complextiy"
   ]
  },
  {
   "cell_type": "code",
   "execution_count": 15,
   "metadata": {},
   "outputs": [],
   "source": [
    "# How many types of colors are used\n",
    "def count_unique_colors(image_path):\n",
    "    image = cv2.imread(image_path)\n",
    "    image = downsample_image(image_path, 0.75)\n",
    "    image = cv2.cvtColor(image, cv2.COLOR_BGR2LAB)  \n",
    "\n",
    "    image = image // 40 * 40  \n",
    "    unique_colors = np.unique(image.reshape(-1, image.shape[2]), axis=0)\n",
    "    \n",
    "    return len(unique_colors)\n",
    "\n",
    "# Degree of color gradient and contrast\n",
    "def calculate_color_entropy(image_path):\n",
    "    image = cv2.imread(image_path)\n",
    "    image = downsample_image(image_path, 0.75)\n",
    "    image = cv2.cvtColor(image, cv2.COLOR_BGR2LAB)\n",
    "    \n",
    "    hist = cv2.calcHist([image], [0, 1, 2], None, [256, 256, 256], [0, 256, 0, 256, 0, 256])\n",
    "    hist_norm = hist / hist.sum()\n",
    "    entropy = -np.sum(hist_norm[hist_norm>0] * np.log2(hist_norm[hist_norm>0]))\n",
    "    \n",
    "    return entropy"
   ]
  },
  {
   "cell_type": "markdown",
   "metadata": {},
   "source": [
    "## Textures and details"
   ]
  },
  {
   "cell_type": "code",
   "execution_count": 26,
   "metadata": {},
   "outputs": [],
   "source": [
    "# Types and complexity of textures in images\n",
    "def texture_analysis(image_path):\n",
    "    image = cv2.imread(image_path)\n",
    "    image = downsample_image(image_path, 0.75)\n",
    "    image = cv2.cvtColor(image, cv2.COLOR_BGR2GRAY)\n",
    "    glcm = graycomatrix(image, [1], [0, np.pi/4, np.pi/2, 3*np.pi/4], 256, symmetric=True, normed=True)\n",
    "    contrast = graycoprops(glcm, 'contrast')\n",
    "    homogeneity = graycoprops(glcm, 'homogeneity')\n",
    "    \n",
    "    return contrast, homogeneity\n",
    "\n",
    "# Richness of image detail\n",
    "def edge_density(image_path):\n",
    "    image = cv2.imread(image_path)\n",
    "    image = downsample_image(image_path, 0.75)\n",
    "    image = cv2.cvtColor(image, cv2.COLOR_BGR2GRAY)\n",
    "    edges = cv2.Sobel(image, cv2.CV_64F, 1, 1, ksize=5)\n",
    "    edge_density = np.mean(edges)\n",
    "    \n",
    "    return edge_density\n"
   ]
  },
  {
   "cell_type": "code",
   "execution_count": 5,
   "metadata": {},
   "outputs": [],
   "source": [
    "image_path = 'dataset/flower.JPG'\n",
    "num_colors = count_unique_colors(image_path)\n",
    "entropy = calculate_color_entropy(image_path)\n",
    "contrast, homogeneity = texture_analysis(image_path)\n",
    "edge_density = edge_density(image_path)"
   ]
  },
  {
   "cell_type": "markdown",
   "metadata": {},
   "source": [
    "# Evaluation(distortion)"
   ]
  },
  {
   "cell_type": "code",
   "execution_count": 45,
   "metadata": {},
   "outputs": [],
   "source": [
    "import os\n",
    "import matplotlib.pyplot as plt\n"
   ]
  },
  {
   "cell_type": "code",
   "execution_count": 93,
   "metadata": {},
   "outputs": [],
   "source": [
    "def cal_distortion(depth_dir, cut_dir, cut_file_name):\n",
    "\n",
    "    depth = np.load(depth_dir+cut_file_name+'.npy')[0, :, :]\n",
    "    layers_files = [r+'/'+f for r, d, fs in os.walk(cut_dir+cut_file_name) for f in fs if f.endswith('l.npy')]\n",
    "    depth_step = np.max(depth)/len(layers_files)\n",
    "    cut_depth = [i*depth_step for i in range(len(layers_files))]\n",
    "    layer_masks = [np.load(f) for f in layers_files]\n",
    "\n",
    "    distortion = 0\n",
    "    for i, mask in enumerate(layer_masks):\n",
    "        distortion += np.mean(depth[mask] - cut_depth[i])\n",
    "\n",
    "    return distortion"
   ]
  },
  {
   "cell_type": "code",
   "execution_count": 94,
   "metadata": {},
   "outputs": [],
   "source": [
    "depth_dir = './dataset/depth/'\n",
    "depth_paths = [ f for r, d, fs in os.walk(depth_dir) for f in fs]\n",
    "cut_dir = './output-sam/'\n",
    "cut_file_names = [ d for r, ds, fs in os.walk(cut_dir) for d in ds]"
   ]
  },
  {
   "cell_type": "code",
   "execution_count": 97,
   "metadata": {},
   "outputs": [
    {
     "name": "stdout",
     "output_type": "stream",
     "text": [
      "gardenCat 14.269725799560547\n",
      "torri 3.8592071533203125\n",
      "snowmountain2 -31.516761779785156\n",
      "lake -30.327421188354492\n",
      "snowmountain -7.62620735168457\n",
      "summer 18.326998710632324\n",
      "spring -11.579082489013672\n"
     ]
    }
   ],
   "source": [
    "for cut_name in cut_file_names:\n",
    "    print(cut_name, cal_distortion(depth_dir, cut_dir, cut_name))"
   ]
  },
  {
   "cell_type": "code",
   "execution_count": null,
   "metadata": {},
   "outputs": [],
   "source": []
  }
 ],
 "metadata": {
  "kernelspec": {
   "display_name": "py311",
   "language": "python",
   "name": "python3"
  },
  "language_info": {
   "codemirror_mode": {
    "name": "ipython",
    "version": 3
   },
   "file_extension": ".py",
   "mimetype": "text/x-python",
   "name": "python",
   "nbconvert_exporter": "python",
   "pygments_lexer": "ipython3",
   "version": "3.11.8"
  }
 },
 "nbformat": 4,
 "nbformat_minor": 2
}
