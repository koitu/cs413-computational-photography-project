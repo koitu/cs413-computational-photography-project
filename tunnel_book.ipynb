{
 "cells": [
  {
   "cell_type": "markdown",
   "id": "fd6599adee7ec5ba",
   "metadata": {},
   "source": [
    "# Start\n",
    "This notebook should be as clean and compact as possible (for testing please create/copy a copy of this notebook)"
   ]
  },
  {
   "cell_type": "code",
   "execution_count": 1,
   "id": "c9a5b296c57120d4",
   "metadata": {
    "ExecuteTime": {
     "end_time": "2024-05-25T23:19:54.535212Z",
     "start_time": "2024-05-25T23:19:54.042801Z"
    }
   },
   "source": [
    "import numpy as np\n",
    "import matplotlib.pyplot as plt\n",
    "\n",
    "from skimage import color\n",
    "from skimage.segmentation import slic\n",
    "\n",
    "from src.utils import load_image, downscale\n",
    "from src.depth import estimate_depth, normalize_depth"
   ],
   "outputs": []
  },
  {
   "cell_type": "code",
   "execution_count": 2,
   "id": "3811ca1213536d00",
   "metadata": {
    "ExecuteTime": {
     "end_time": "2024-05-25T23:19:59.161624Z",
     "start_time": "2024-05-25T23:19:59.151363Z"
    }
   },
   "source": [
    "img_name = \"train\"\n",
    "ext = \".jpg\"\n",
    "\n",
    "orig_img = load_image(\"dataset/\" + img_name + ext)\n",
    "\n",
    "depth = normalize_depth(estimate_depth(orig_img)) * 100\n",
    "img = downscale(orig_img, *depth.shape)\n",
    "rgb_slic = slic(img, n_segments=1000, start_label=1, slic_zero=True)\n",
    "\n",
    "cie_img = color.rgb2lab(img)"
   ],
   "outputs": []
  },
  {
   "cell_type": "markdown",
   "id": "e952e1718ab8ef5d",
   "metadata": {},
   "source": [
    "# Segment-Anything and KMeans"
   ]
  },
  {
   "cell_type": "code",
   "execution_count": 3,
   "id": "1ee5db837110ecda",
   "metadata": {
    "ExecuteTime": {
     "end_time": "2024-05-25T23:20:03.788198Z",
     "start_time": "2024-05-25T23:20:03.780455Z"
    }
   },
   "source": [
    "from src.segmentation import SegmentModel, obtain_all_objects, fill_with_superpixels, show_layers\n",
    "from src.kmeans import get_optimal_k, assign2layers_kmeans"
   ],
   "outputs": []
  },
  {
   "cell_type": "code",
   "execution_count": 4,
   "id": "17f01f7ead609632",
   "metadata": {
    "ExecuteTime": {
     "end_time": "2024-05-25T23:20:05.671367Z",
     "start_time": "2024-05-25T23:20:05.662385Z"
    }
   },
   "source": [
    "# lake parameters\n",
    "mask_generator = SegmentModel(points_per_side=40).segment_anything \n",
    "object_masks = obtain_all_objects(mask_generator, img, img_r_thrd=0.95, n_thrd=10, ovlp_r_thrd=0.05, small_thrd=500) \n"
   ],
   "outputs": []
  },
  {
   "cell_type": "code",
   "execution_count": 5,
   "id": "eda0be8b-a170-4616-8589-907aa04e6dfc",
   "metadata": {},
   "source": [
    "optimal_k = get_optimal_k(object_masks, depth)\n",
    "\n",
    "object_masks = fill_with_superpixels(img, object_masks)\n",
    "\n",
    "layers_idx, layers, layer_depth = assign2layers_kmeans(object_masks, depth, optimal_k)\n",
    "show_layers(img, object_masks, layers_idx)"
   ],
   "outputs": []
  },
  {
   "cell_type": "markdown",
   "id": "d1aaac9b91273f28",
   "metadata": {},
   "source": [
    "# Superpixels with Graph Opt"
   ]
  },
  {
   "cell_type": "code",
   "execution_count": 6,
   "id": "503d98335206f39c",
   "metadata": {
    "ExecuteTime": {
     "end_time": "2024-05-25T23:20:14.238689Z",
     "start_time": "2024-05-25T23:20:14.231842Z"
    }
   },
   "source": [
    "from scipy.ndimage import binary_fill_holes\n",
    "\n",
    "from src.graph import RAG, merge_regions_until_done"
   ],
   "outputs": []
  },
  {
   "cell_type": "code",
   "execution_count": 7,
   "id": "8f929488326dff0f",
   "metadata": {
    "ExecuteTime": {
     "end_time": "2024-05-25T23:20:15.621429Z",
     "start_time": "2024-05-25T23:20:15.614044Z"
    }
   },
   "source": [
    "rag = RAG(img, depth, rgb_slic)\n",
    "\n",
    "g, regions = merge_regions_until_done(rag.graph, rag.edge_nodes, optimal_k)\n",
    "\n",
    "for i, reg in enumerate(regions):\n",
    "    plt.subplot(231 + i)\n",
    "\n",
    "    mask = binary_fill_holes(g.nodes[reg]['mask'])\n",
    "    image = np.zeros(img.shape)\n",
    "    image[mask] = img[mask]\n",
    "\n",
    "    plt.imshow(image)"
   ],
   "outputs": []
  },
  {
   "cell_type": "markdown",
   "id": "fded229caf2b77df",
   "metadata": {},
   "source": [
    "# Inpainting"
   ]
  },
  {
   "cell_type": "code",
   "execution_count": null,
   "id": "5e342f73ceacf659",
   "metadata": {},
   "source": [
    "from src.inpaint import InpaintModel"
   ],
   "outputs": []
  },
  {
   "cell_type": "code",
   "execution_count": null,
   "id": "ed282c56c6b5d0b7",
   "metadata": {},
   "source": [
    "# # TODO: inpainting takes in a path rather than an image\n",
    "\n",
    "# model = InpaintModel(input_img=img, resizeshape=(784,518))\n",
    "# \n",
    "# mask = model.mask_filter_process(1, 5, 0.5, 'gaussian', True)\n",
    "# layer_after_mask = model.inpaint_layer(1)\n",
    "# \n",
    "# sample, mask = model.mask_re_segmentation(2, 50)"
   ],
   "outputs": []
  }
 ],
 "metadata": {
  "kernelspec": {
   "display_name": "tunnel-book2",
   "language": "python",
   "name": "tunnel-book2"
  },
  "language_info": {
   "codemirror_mode": {
    "name": "ipython",
    "version": 3
   },
   "file_extension": ".py",
   "mimetype": "text/x-python",
   "name": "python",
   "nbconvert_exporter": "python",
   "pygments_lexer": "ipython3",
   "version": "3.12.3"
  }
 },
 "nbformat": 4,
 "nbformat_minor": 5
}
