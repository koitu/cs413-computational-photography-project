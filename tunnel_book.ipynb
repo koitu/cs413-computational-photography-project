{
 "cells": [
  {
   "metadata": {},
   "cell_type": "markdown",
   "source": [
    "# Start\n",
    "This notebook should be as clean and compact as possible (for testing please create/copy a copy of this notebook)"
   ],
   "id": "fd6599adee7ec5ba"
  },
  {
   "metadata": {},
   "cell_type": "code",
   "outputs": [],
   "execution_count": null,
   "source": [
    "import cv2\n",
    "import numpy as np\n",
    "import matplotlib.pyplot as plt\n",
    "\n",
    "from skimage import color\n",
    "from skimage.segmentation import slic\n",
    "\n",
    "from src.utils import load_image, downscale\n",
    "from src.depth import estimate_depth, normalize_depth"
   ],
   "id": "c9a5b296c57120d4"
  },
  {
   "metadata": {},
   "cell_type": "code",
   "outputs": [],
   "execution_count": null,
   "source": [
    "img_name = \"train\"\n",
    "ext = \".jpg\"\n",
    "\n",
    "orig_img = load_image(\"dataset/\" + img_name + ext)\n",
    "\n",
    "depth = normalize_depth(estimate_depth(orig_img)) * 100\n",
    "img = downscale(orig_img, *depth.shape)\n",
    "rgb_slic = slic(img, n_segments=1000, start_label=1, slic_zero=True)\n",
    "\n",
    "cie_img = color.rgb2lab(img)"
   ],
   "id": "3811ca1213536d00"
  },
  {
   "metadata": {},
   "cell_type": "markdown",
   "source": "# Segment-Anything and KMeans",
   "id": "e952e1718ab8ef5d"
  },
  {
   "metadata": {},
   "cell_type": "code",
   "outputs": [],
   "execution_count": null,
   "source": [
    "from src.segmentation import SegmentModel, obtain_all_objects, fill_with_superpixels, show_layers\n",
    "from src.kmeans import get_optimal_k, assign2layers_kmeans"
   ],
   "id": "1ee5db837110ecda"
  },
  {
   "metadata": {},
   "cell_type": "code",
   "outputs": [],
   "execution_count": null,
   "source": [
    "# lake parameters\n",
    "mask_generator = SegmentModel(points_per_side=40).segment_anything \n",
    "object_masks = obtain_all_objects(mask_generator, img, img_r_thrd=0.95, n_thrd=10, ovlp_r_thrd=0.05, small_thrd=500) \n",
    "optimal_k = get_optimal_k(object_masks)\n",
    "\n",
    "new_object_masks = fill_with_superpixels(img, object_masks)\n",
    "\n",
    "layers_idx, layers, layer_depth = assign2layers_kmeans(object_masks, depth, optimal_k)\n",
    "show_layers(img, object_masks, layers_idx)"
   ],
   "id": "17f01f7ead609632"
  },
  {
   "metadata": {},
   "cell_type": "markdown",
   "source": "# Superpixels with Graph Opt",
   "id": "d1aaac9b91273f28"
  },
  {
   "metadata": {},
   "cell_type": "code",
   "outputs": [],
   "execution_count": null,
   "source": [
    "from scipy.ndimage import binary_fill_holes\n",
    "\n",
    "from src.graph import RAG, merge_regions_until_done"
   ],
   "id": "503d98335206f39c"
  },
  {
   "metadata": {},
   "cell_type": "code",
   "outputs": [],
   "execution_count": null,
   "source": [
    "rag = RAG(img, depth, rgb_slic)\n",
    "\n",
    "g, regions = merge_regions_until_done(rag.graph, rag.edge_nodes, optimal_k)\n",
    "\n",
    "for i, reg in enumerate(regions):\n",
    "    plt.subplot(231 + i)\n",
    "\n",
    "    mask = binary_fill_holes(g.nodes[reg]['mask'])\n",
    "    image = np.zeros(img.shape)\n",
    "    image[mask] = img[mask]\n",
    "\n",
    "    plt.imshow(image)"
   ],
   "id": "8f929488326dff0f"
  },
  {
   "metadata": {},
   "cell_type": "markdown",
   "source": "# Inpainting",
   "id": "fded229caf2b77df"
  },
  {
   "metadata": {},
   "cell_type": "code",
   "outputs": [],
   "execution_count": null,
   "source": "from src.inpaint import InpaintModel",
   "id": "5e342f73ceacf659"
  },
  {
   "metadata": {},
   "cell_type": "code",
   "outputs": [],
   "execution_count": null,
   "source": [
    "# # TODO: inpainting takes in a path rather than an image\n",
    "\n",
    "# model = InpaintModel(input_img=img, resizeshape=(784,518))\n",
    "# \n",
    "# mask = model.mask_filter_process(1, 5, 0.5, 'gaussian', True)\n",
    "# layer_after_mask = model.inpaint_layer(1)\n",
    "# \n",
    "# sample, mask = model.mask_re_segmentation(2, 50)"
   ],
   "id": "ed282c56c6b5d0b7"
  }
 ],
 "metadata": {
  "kernelspec": {
   "display_name": "Python 3",
   "language": "python",
   "name": "python3"
  },
  "language_info": {
   "codemirror_mode": {
    "name": "ipython",
    "version": 2
   },
   "file_extension": ".py",
   "mimetype": "text/x-python",
   "name": "python",
   "nbconvert_exporter": "python",
   "pygments_lexer": "ipython2",
   "version": "2.7.6"
  }
 },
 "nbformat": 4,
 "nbformat_minor": 5
}
